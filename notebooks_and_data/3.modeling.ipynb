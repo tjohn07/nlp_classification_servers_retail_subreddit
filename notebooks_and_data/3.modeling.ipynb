{
 "cells": [
  {
   "cell_type": "code",
   "execution_count": 1,
   "id": "ecb72f68-98c4-4957-a2fe-a370bcb9727e",
   "metadata": {},
   "outputs": [],
   "source": [
    "# imports\n",
    "import pandas as pd\n",
    "import matplotlib.pyplot as plt\n",
    "import numpy as np\n",
    "import seaborn as sns\n",
    "import random\n",
    "from sklearn.model_selection import train_test_split, GridSearchCV, cross_val_score\n",
    "from sklearn.pipeline import Pipeline\n",
    "from sklearn.naive_bayes import MultinomialNB\n",
    "from sklearn.linear_model import LogisticRegression\n",
    "from sklearn.metrics import confusion_matrix, plot_confusion_matrix, classification_report, accuracy_score, plot_roc_curve, roc_auc_score, recall_score, precision_score, f1_score\n",
    "from sklearn.ensemble import RandomForestClassifier, ExtraTreesClassifier\n",
    "from sklearn.feature_extraction.text import CountVectorizer, TfidfVectorizer\n",
    "import joblib"
   ]
  },
  {
   "cell_type": "code",
   "execution_count": 2,
   "id": "93fe78f1-d430-4c9c-9e7e-fbbc2444090d",
   "metadata": {},
   "outputs": [],
   "source": [
    "random.seed(2000)\n"
   ]
  },
  {
   "cell_type": "markdown",
   "id": "8b2a6a03-1ccc-4050-ab6c-1e51149e0643",
   "metadata": {},
   "source": [
    "# Classifying NLP Data for the Service Industry: Comparing 2 Subreddits\n",
    "\n",
    "## Project Contents:\n",
    "\n",
    "This projects contains 4 notebooks:\n",
    "\n",
    "|Name|Description|\n",
    "|---|---|\n",
    "|1.intro_and_webscrape|Provides an introduction to the project, including problem statement and background, and the code used for gathering the data.|\n",
    "|2.eda|Displays data cleaning and exploratory data analysis.|\n",
    "|3.modeling|Builds 4 classification models.|\n",
    "|4.sentiment_analysis|Explores sentiment analysis of the language used in each subreddit|\n",
    "\n",
    "You are currently in the notebook #3: Modeling."
   ]
  },
  {
   "cell_type": "markdown",
   "id": "972c0353-bf0e-4027-a2d4-2ca00022efae",
   "metadata": {
    "tags": []
   },
   "source": [
    "# <a name=\"top\"></a>Table of Contents\n",
    "\n",
    "* [Baseline model](#baseline)\n",
    "* [Logistic Regression Model #1 with TF IDF Vectorizer](#logreg1)\n",
    "* [RandomForest](#randomforest)\n",
    "* [MultinomialNB](#mnb)\n",
    "* [SELECTED MODEL: LogisticRegression](#logreg_selected)\n",
    "* [Overall Conclusions](#conclusion)\n",
    "\n",
    "source for TOC functionality: https://stackoverflow.com/questions/5319754/cross-reference-named-anchor-in-markdown/7335259#7335259\n"
   ]
  },
  {
   "cell_type": "code",
   "execution_count": 198,
   "id": "593ef806-05fc-4a2f-abf9-b3cff9d0ebb7",
   "metadata": {},
   "outputs": [],
   "source": [
    "#reading in the cleaned csv. \n",
    "df = pd.read_csv('./data/server_retail.csv')\n",
    "\n"
   ]
  },
  {
   "cell_type": "code",
   "execution_count": 200,
   "id": "e178b33b-a2ec-49af-a59a-762ae4dc47b4",
   "metadata": {},
   "outputs": [
    {
     "data": {
      "text/html": [
       "<div>\n",
       "<style scoped>\n",
       "    .dataframe tbody tr th:only-of-type {\n",
       "        vertical-align: middle;\n",
       "    }\n",
       "\n",
       "    .dataframe tbody tr th {\n",
       "        vertical-align: top;\n",
       "    }\n",
       "\n",
       "    .dataframe thead th {\n",
       "        text-align: right;\n",
       "    }\n",
       "</style>\n",
       "<table border=\"1\" class=\"dataframe\">\n",
       "  <thead>\n",
       "    <tr style=\"text-align: right;\">\n",
       "      <th></th>\n",
       "      <th>body</th>\n",
       "      <th>subreddit</th>\n",
       "      <th>author</th>\n",
       "      <th>created_utc</th>\n",
       "      <th>comment_length</th>\n",
       "      <th>comment_tokens</th>\n",
       "    </tr>\n",
       "  </thead>\n",
       "  <tbody>\n",
       "    <tr>\n",
       "      <th>32068</th>\n",
       "      <td>People who think they know more than you are t...</td>\n",
       "      <td>TalesFromRetail</td>\n",
       "      <td>scootypuffs9</td>\n",
       "      <td>1611002039</td>\n",
       "      <td>159</td>\n",
       "      <td>people think know than are worst humans goddam...</td>\n",
       "    </tr>\n",
       "    <tr>\n",
       "      <th>70679</th>\n",
       "      <td>I got my vet assistant job because of my resta...</td>\n",
       "      <td>TalesFromYourServer</td>\n",
       "      <td>matchamontblanc</td>\n",
       "      <td>1631149834</td>\n",
       "      <td>522</td>\n",
       "      <td>got vet assistant job restaurant experience ir...</td>\n",
       "    </tr>\n",
       "    <tr>\n",
       "      <th>58034</th>\n",
       "      <td>Why thank you my waffle-y friend :)</td>\n",
       "      <td>TalesFromYourServer</td>\n",
       "      <td>darkeyedchaos</td>\n",
       "      <td>1632713796</td>\n",
       "      <td>35</td>\n",
       "      <td>thank waffle-y friend )</td>\n",
       "    </tr>\n",
       "    <tr>\n",
       "      <th>10980</th>\n",
       "      <td>The nerve of some people</td>\n",
       "      <td>TalesFromRetail</td>\n",
       "      <td>latenightip</td>\n",
       "      <td>1627925318</td>\n",
       "      <td>24</td>\n",
       "      <td>nerve some people</td>\n",
       "    </tr>\n",
       "    <tr>\n",
       "      <th>66299</th>\n",
       "      <td>This is the answer. Never stay at the current ...</td>\n",
       "      <td>TalesFromYourServer</td>\n",
       "      <td>Original_Flounder_18</td>\n",
       "      <td>1631782134</td>\n",
       "      <td>76</td>\n",
       "      <td>answer never stay the current employer don value</td>\n",
       "    </tr>\n",
       "  </tbody>\n",
       "</table>\n",
       "</div>"
      ],
      "text/plain": [
       "                                                    body            subreddit  \\\n",
       "32068  People who think they know more than you are t...      TalesFromRetail   \n",
       "70679  I got my vet assistant job because of my resta...  TalesFromYourServer   \n",
       "58034                Why thank you my waffle-y friend :)  TalesFromYourServer   \n",
       "10980                           The nerve of some people      TalesFromRetail   \n",
       "66299  This is the answer. Never stay at the current ...  TalesFromYourServer   \n",
       "\n",
       "                     author  created_utc  comment_length  \\\n",
       "32068          scootypuffs9   1611002039             159   \n",
       "70679       matchamontblanc   1631149834             522   \n",
       "58034         darkeyedchaos   1632713796              35   \n",
       "10980           latenightip   1627925318              24   \n",
       "66299  Original_Flounder_18   1631782134              76   \n",
       "\n",
       "                                          comment_tokens  \n",
       "32068  people think know than are worst humans goddam...  \n",
       "70679  got vet assistant job restaurant experience ir...  \n",
       "58034                            thank waffle-y friend )  \n",
       "10980                                  nerve some people  \n",
       "66299   answer never stay the current employer don value  "
      ]
     },
     "execution_count": 200,
     "metadata": {},
     "output_type": "execute_result"
    }
   ],
   "source": [
    "df.sample(5)"
   ]
  },
  {
   "cell_type": "code",
   "execution_count": 201,
   "id": "7b5b54ae-41c5-4fcc-9ce7-e1817e02929f",
   "metadata": {},
   "outputs": [
    {
     "data": {
      "text/plain": [
       "body                0\n",
       "subreddit           0\n",
       "author              0\n",
       "created_utc         0\n",
       "comment_length      0\n",
       "comment_tokens    201\n",
       "dtype: int64"
      ]
     },
     "execution_count": 201,
     "metadata": {},
     "output_type": "execute_result"
    }
   ],
   "source": [
    "#checking for nulls\n",
    "\n",
    "df.isna().sum()\n"
   ]
  },
  {
   "cell_type": "code",
   "execution_count": 202,
   "id": "274a9e41-a580-44aa-b46f-49a9769a5023",
   "metadata": {},
   "outputs": [],
   "source": [
    "# drop nulls in comment_tokens\n",
    "df.dropna(inplace=True)\n",
    "\n"
   ]
  },
  {
   "cell_type": "code",
   "execution_count": 203,
   "id": "76f7aa33-fa83-4e8d-9582-65538354dc95",
   "metadata": {},
   "outputs": [
    {
     "data": {
      "text/plain": [
       "body              0\n",
       "subreddit         0\n",
       "author            0\n",
       "created_utc       0\n",
       "comment_length    0\n",
       "comment_tokens    0\n",
       "dtype: int64"
      ]
     },
     "execution_count": 203,
     "metadata": {},
     "output_type": "execute_result"
    }
   ],
   "source": [
    "df.isna().sum()\n"
   ]
  },
  {
   "cell_type": "code",
   "execution_count": 153,
   "id": "bdedfcd4-f106-4bed-9868-b44f04cbfcd3",
   "metadata": {},
   "outputs": [],
   "source": [
    "#Assigning my target(y) to the subreddit, and my predictor(x) to the comment text that has been cleaned. \n",
    "\n",
    "X = df['comment_tokens']\n",
    "y = df['subreddit']\n"
   ]
  },
  {
   "cell_type": "markdown",
   "id": "cc767dfa-2408-45fc-b6e0-4e08ebbdcecd",
   "metadata": {},
   "source": [
    "## <a name=\"baseline\"></a>  Baseline Model \n",
    "\n",
    "My baseline model has an accuracy score of 0.53 - it will accurately predict the correct subreddict 53% of the time, because that is the size of the majority class in my dataset. \n",
    "\n",
    "* [Return to the the top of this notebook.](#top)\n",
    "* [Jump to the Next Model](#logreg1)"
   ]
  },
  {
   "cell_type": "code",
   "execution_count": 154,
   "id": "d9c306f0-1c61-4ba5-a74f-98eae1c0e9f7",
   "metadata": {},
   "outputs": [
    {
     "data": {
      "text/plain": [
       "TalesFromYourServer    0.53\n",
       "TalesFromRetail        0.47\n",
       "Name: subreddit, dtype: float64"
      ]
     },
     "execution_count": 154,
     "metadata": {},
     "output_type": "execute_result"
    }
   ],
   "source": [
    "#baseline model - Predicts TalesFromYourServer 53% of the time. \n",
    "\n",
    "round(y.value_counts(normalize=True), 2)\n",
    "\n"
   ]
  },
  {
   "cell_type": "code",
   "execution_count": 41,
   "id": "1c533ac9-326d-43a4-a055-3378ffaf4d43",
   "metadata": {},
   "outputs": [],
   "source": [
    "#splitting my training and testing data. \n",
    "\n",
    "X_train, X_test, y_train, y_test = train_test_split(X,\n",
    "                                                    y,\n",
    "                                                    test_size=0.33,  #test size of 0.33\n",
    "                                                    stratify=y, #stratified, as necessary for a classification model. \n",
    "                                                    random_state=42)\n"
   ]
  },
  {
   "cell_type": "markdown",
   "id": "e09b49f8-c0aa-4a17-9373-f282723e1d52",
   "metadata": {},
   "source": [
    "# Models"
   ]
  },
  {
   "cell_type": "markdown",
   "id": "289fb1db-a91e-4144-a76d-3febc23da098",
   "metadata": {},
   "source": [
    "## <a name=\"logreg1\"></a>Logistic Regression Model #1 with TF IDF Vectorizer\n",
    "\n",
    "For my first model in this notebook, I began with a Logistic Regression model. I created a pipeline for my transformer (TfidfVectorizer) and estimator (LogisticRegression). I preferred TfidfVectorizer for modeling in this study because I wanted to make sure to focus on words that were strongly related to one subreddit or the other, while putting less emphasis on the words that were common in both subreddits. \n",
    "\n",
    "I used a gridsearch to test the following features in this model:\n",
    "* Max Features:  500, 1000, 2000 : to limit the number of features selected by the transformer. \n",
    "* ngram_range: to limit the transformer to ngrams and bigrams. \n",
    "* max_df: to ignore words that had a frequency above 90% versus the default of 100%. \n",
    "* Logistic Regression 'C' hyperparameter to set the alpha for regularization to .0001, .01, and 1.0. \n",
    "\n",
    "This model was not over or underfit, but the overall accuracy was low at only 60%.  I used the information gained from gridsearching over these hyperparameters to build a stronger Logistic Regression model at the bottom of this notebook, which turned out to be my strongest model overall. \n",
    "\n",
    "* [Return to the the top of this notebook.](#top)\n",
    "* [Jump to the Next Model](#randomforest)"
   ]
  },
  {
   "cell_type": "code",
   "execution_count": 156,
   "id": "0cb6ffe6-66d3-408f-a8b1-3e0cdb5b6bf2",
   "metadata": {},
   "outputs": [],
   "source": [
    "# Setting up a pipeline for TfidVectorizer as my transformer and LogisticRegression as the estimator. \n",
    "\n",
    "logreg_pipe = Pipeline([\n",
    "    ('tvec', TfidfVectorizer()),\n",
    "    ('logreg', LogisticRegression())\n",
    "])\n"
   ]
  },
  {
   "cell_type": "code",
   "execution_count": 157,
   "id": "b4d78bf4-de4e-4ba9-a2bd-eac917fae876",
   "metadata": {},
   "outputs": [],
   "source": [
    "# Setting hyperparameters, as described in the textblock above. \n",
    "\n",
    "logreg_pipe_params = {\n",
    "    'tvec__max_features': [500, 1000, 2000],\n",
    "    'tvec__ngram_range': [(1, 2)],\n",
    "    'tvec__max_df': [.9, 1.0],\n",
    "    'tvec__min_df': [.05, .2],\n",
    "    'logreg__C': [.001, .01, 1.0]\n",
    "}"
   ]
  },
  {
   "cell_type": "code",
   "execution_count": 44,
   "id": "fb3671e5-15fa-4829-aa3d-b1335df9f836",
   "metadata": {},
   "outputs": [],
   "source": [
    "#setting up the gridsearch with 3 crossfolds. \n",
    "\n",
    "logreg_gs = GridSearchCV(logreg_pipe,logreg_pipe_params, cv=3, verbose=1)\n"
   ]
  },
  {
   "cell_type": "code",
   "execution_count": 45,
   "id": "d6e58adb-edf4-4a6b-b07b-9559e061b579",
   "metadata": {},
   "outputs": [
    {
     "name": "stdout",
     "output_type": "stream",
     "text": [
      "Fitting 3 folds for each of 72 candidates, totalling 216 fits\n"
     ]
    },
    {
     "data": {
      "text/plain": [
       "(0.6060448367019837, 0.6082491653636479)"
      ]
     },
     "execution_count": 45,
     "metadata": {},
     "output_type": "execute_result"
    }
   ],
   "source": [
    "# UNCOMMENT THIS CODE TO RUN FIT ON MODEL\n",
    "# Code has been commented out due to the time required to run this gridsearch. \n",
    "\n",
    "#Fitting the gridsearch on my training data and getting the score. \n",
    "\n",
    "# logreg_gs.fit(X_train, y_train)\n",
    "# logreg_gs.score(X_train, y_train), logreg_gs.score(X_test, y_test)\n",
    "\n"
   ]
  },
  {
   "cell_type": "code",
   "execution_count": 160,
   "id": "0c7a4294-40d8-495a-97c7-c98d8f2e3e43",
   "metadata": {},
   "outputs": [],
   "source": [
    "# Saving the model. \n",
    "\n",
    "# joblib.dump(logreg_gs, 'logreg_gs.pkl')\n",
    "\n"
   ]
  },
  {
   "cell_type": "code",
   "execution_count": 161,
   "id": "4a39bacd-88d6-439c-88b1-e603c71a6add",
   "metadata": {},
   "outputs": [
    {
     "data": {
      "text/plain": [
       "0.6082491653636479"
      ]
     },
     "execution_count": 161,
     "metadata": {},
     "output_type": "execute_result"
    }
   ],
   "source": [
    "joblib.load('./models/logreg_gs.pkl').score(X_test, y_test)"
   ]
  },
  {
   "cell_type": "markdown",
   "id": "9e71a2cb-cb4f-4b4d-9cf6-f594bcb7d027",
   "metadata": {},
   "source": [
    "## <a name=\"randomforest\"></a>RandomForest with TF IDF Vectorizer\n",
    "\n",
    "For my second model in this notebook, I tested a RandomForest model. I created a pipeline for my transformer (TfidfVectorizer) and estimator (RandomForest). I preferred TfidfVectorizer for modeling in this study because I wanted to make sure to focus on words that were strongly related to one subreddit or the other, while putting less emphasis on the words that were common in both subreddits. \n",
    "\n",
    "I used a gridsearch to test the following features in this model:\n",
    "* Max Features:  500, 1000, 2000, 3000 : to limit the number of features selected by the transformer. \n",
    "* ngram_range: to limit the transformer to ngrams and bigrams. \n",
    "* max_df: to ignore words that had a frequency above 70% or 90% versus the default of 100%. \n",
    "* RandomForest alpha hyperparameter to set the regularization to 0.0, .001, .01, and 1.0. \n",
    "\n",
    "This model was drastically overfit, with a training accuracy score of .98 and a testing accuracy score of .74. I would have liked to have performed more hyperparameter testing for this model to correct the bias, but this particular model took a very long time to fit. Given how strong my final LogisticRegression model performed, I decided not to move forward with RandomForest for this classification model. \n",
    "\n",
    "* [Return to the the top of this notebook.](#top)\n",
    "* [Jump to the Next Model](#mnb)"
   ]
  },
  {
   "cell_type": "code",
   "execution_count": 48,
   "id": "941bb224-e696-49c4-8d7e-7c23f01c4def",
   "metadata": {},
   "outputs": [],
   "source": [
    "# setting up my pipeline with TfidfVectorizer as my transformer and RandomForest as my estimator. \n",
    "\n",
    "rfc_pipe = Pipeline([\n",
    "    ('tvec', TfidfVectorizer()),\n",
    "    ('rfc', RandomForestClassifier())\n",
    "])\n"
   ]
  },
  {
   "cell_type": "code",
   "execution_count": 49,
   "id": "3b7b48b8-3aad-4bef-a608-acaa4421e1b2",
   "metadata": {},
   "outputs": [],
   "source": [
    "# Desingating parameters to gridsearch over, as outlined in the textblock above. \n",
    "\n",
    "rfc_pipe_params = {\n",
    "    'tvec__max_features': [500, 1000, 2000, 3000],\n",
    "    'tvec__ngram_range': [(1, 2)],\n",
    "    'tvec__max_df': [.7, .9, 1.0],\n",
    "    'rfc__ccp_alpha': [0.0, .001, .01, 1.0]\n",
    "}\n"
   ]
  },
  {
   "cell_type": "code",
   "execution_count": 50,
   "id": "48b31709-106a-4e2d-8a3d-de69a573bf4c",
   "metadata": {},
   "outputs": [],
   "source": [
    "#setting up my gridsearch\n",
    "\n",
    "rfc_gs = GridSearchCV(rfc_pipe,rfc_pipe_params, cv=3, verbose=1)\n"
   ]
  },
  {
   "cell_type": "code",
   "execution_count": 51,
   "id": "2eebf4e9-b8db-4519-9706-04572be33a48",
   "metadata": {},
   "outputs": [
    {
     "name": "stdout",
     "output_type": "stream",
     "text": [
      "Fitting 3 folds for each of 48 candidates, totalling 144 fits\n"
     ]
    },
    {
     "data": {
      "text/plain": [
       "GridSearchCV(cv=3,\n",
       "             estimator=Pipeline(steps=[('tvec', TfidfVectorizer()),\n",
       "                                       ('rfc', RandomForestClassifier())]),\n",
       "             param_grid={'rfc__ccp_alpha': [0.0, 0.001, 0.01, 1.0],\n",
       "                         'tvec__max_df': [0.7, 0.9, 1.0],\n",
       "                         'tvec__max_features': [500, 1000, 2000, 3000],\n",
       "                         'tvec__ngram_range': [(1, 2)]},\n",
       "             verbose=1)"
      ]
     },
     "execution_count": 51,
     "metadata": {},
     "output_type": "execute_result"
    }
   ],
   "source": [
    "# UNCOMMENT THIS CODE TO RUN FIT ON MODEL\n",
    "# Code has been commented out due to the time required to run this gridsearch. \n",
    "\n",
    "# Fitting the gridsearch with my training data. \n",
    "\n",
    "# rfc_gs.fit(X_train, y_train)\n",
    "\n"
   ]
  },
  {
   "cell_type": "code",
   "execution_count": 52,
   "id": "f5d8728f-1687-4cdd-af45-558d742bee14",
   "metadata": {},
   "outputs": [
    {
     "data": {
      "text/plain": [
       "(0.9813700797235695, 0.7485103325867388)"
      ]
     },
     "execution_count": 52,
     "metadata": {},
     "output_type": "execute_result"
    }
   ],
   "source": [
    "# This model is drastically overfit, and steps need to be taken to deal with the extreme bias highlighted by the accuracy scores. \n",
    "\n",
    "rfc_gs.score(X_train, y_train), rfc_gs.score(X_test, y_test)\n",
    "\n"
   ]
  },
  {
   "cell_type": "code",
   "execution_count": 85,
   "id": "853315a4-1397-4847-95f3-15faa4a28c8b",
   "metadata": {},
   "outputs": [],
   "source": [
    "#  Looking at the results for each model. \n",
    "\n",
    "rfc_results_df = pd.DataFrame(rfc_gs.cv_results_)"
   ]
  },
  {
   "cell_type": "code",
   "execution_count": 189,
   "id": "0fcc9dad-6e1c-4ca1-9373-ee4da399bed9",
   "metadata": {},
   "outputs": [
    {
     "data": {
      "text/html": [
       "<div>\n",
       "<style scoped>\n",
       "    .dataframe tbody tr th:only-of-type {\n",
       "        vertical-align: middle;\n",
       "    }\n",
       "\n",
       "    .dataframe tbody tr th {\n",
       "        vertical-align: top;\n",
       "    }\n",
       "\n",
       "    .dataframe thead th {\n",
       "        text-align: right;\n",
       "    }\n",
       "</style>\n",
       "<table border=\"1\" class=\"dataframe\">\n",
       "  <thead>\n",
       "    <tr style=\"text-align: right;\">\n",
       "      <th></th>\n",
       "      <th>mean_fit_time</th>\n",
       "      <th>std_fit_time</th>\n",
       "      <th>mean_score_time</th>\n",
       "      <th>std_score_time</th>\n",
       "      <th>param_rfc__ccp_alpha</th>\n",
       "      <th>param_tvec__max_df</th>\n",
       "      <th>param_tvec__max_features</th>\n",
       "      <th>param_tvec__ngram_range</th>\n",
       "      <th>params</th>\n",
       "      <th>split0_test_score</th>\n",
       "      <th>split1_test_score</th>\n",
       "      <th>split2_test_score</th>\n",
       "      <th>mean_test_score</th>\n",
       "      <th>std_test_score</th>\n",
       "      <th>rank_test_score</th>\n",
       "    </tr>\n",
       "  </thead>\n",
       "  <tbody>\n",
       "    <tr>\n",
       "      <th>11</th>\n",
       "      <td>43.926642</td>\n",
       "      <td>1.254246</td>\n",
       "      <td>1.548405</td>\n",
       "      <td>0.030499</td>\n",
       "      <td>0.0</td>\n",
       "      <td>1.0</td>\n",
       "      <td>3000</td>\n",
       "      <td>(1, 2)</td>\n",
       "      <td>{'rfc__ccp_alpha': 0.0, 'tvec__max_df': 1.0, '...</td>\n",
       "      <td>0.744598</td>\n",
       "      <td>0.741726</td>\n",
       "      <td>0.739524</td>\n",
       "      <td>0.741950</td>\n",
       "      <td>0.002078</td>\n",
       "      <td>1</td>\n",
       "    </tr>\n",
       "    <tr>\n",
       "      <th>7</th>\n",
       "      <td>43.350136</td>\n",
       "      <td>0.633756</td>\n",
       "      <td>1.572793</td>\n",
       "      <td>0.025897</td>\n",
       "      <td>0.0</td>\n",
       "      <td>0.9</td>\n",
       "      <td>3000</td>\n",
       "      <td>(1, 2)</td>\n",
       "      <td>{'rfc__ccp_alpha': 0.0, 'tvec__max_df': 0.9, '...</td>\n",
       "      <td>0.741851</td>\n",
       "      <td>0.741913</td>\n",
       "      <td>0.740024</td>\n",
       "      <td>0.741263</td>\n",
       "      <td>0.000876</td>\n",
       "      <td>2</td>\n",
       "    </tr>\n",
       "    <tr>\n",
       "      <th>3</th>\n",
       "      <td>43.693075</td>\n",
       "      <td>0.287183</td>\n",
       "      <td>1.585306</td>\n",
       "      <td>0.071349</td>\n",
       "      <td>0.0</td>\n",
       "      <td>0.7</td>\n",
       "      <td>3000</td>\n",
       "      <td>(1, 2)</td>\n",
       "      <td>{'rfc__ccp_alpha': 0.0, 'tvec__max_df': 0.7, '...</td>\n",
       "      <td>0.741351</td>\n",
       "      <td>0.741039</td>\n",
       "      <td>0.738650</td>\n",
       "      <td>0.740347</td>\n",
       "      <td>0.001207</td>\n",
       "      <td>3</td>\n",
       "    </tr>\n",
       "    <tr>\n",
       "      <th>6</th>\n",
       "      <td>43.507940</td>\n",
       "      <td>0.155494</td>\n",
       "      <td>1.545082</td>\n",
       "      <td>0.051000</td>\n",
       "      <td>0.0</td>\n",
       "      <td>0.9</td>\n",
       "      <td>2000</td>\n",
       "      <td>(1, 2)</td>\n",
       "      <td>{'rfc__ccp_alpha': 0.0, 'tvec__max_df': 0.9, '...</td>\n",
       "      <td>0.736855</td>\n",
       "      <td>0.740852</td>\n",
       "      <td>0.738400</td>\n",
       "      <td>0.738702</td>\n",
       "      <td>0.001646</td>\n",
       "      <td>4</td>\n",
       "    </tr>\n",
       "    <tr>\n",
       "      <th>2</th>\n",
       "      <td>43.031596</td>\n",
       "      <td>0.239244</td>\n",
       "      <td>1.707466</td>\n",
       "      <td>0.219523</td>\n",
       "      <td>0.0</td>\n",
       "      <td>0.7</td>\n",
       "      <td>2000</td>\n",
       "      <td>(1, 2)</td>\n",
       "      <td>{'rfc__ccp_alpha': 0.0, 'tvec__max_df': 0.7, '...</td>\n",
       "      <td>0.737043</td>\n",
       "      <td>0.737355</td>\n",
       "      <td>0.736527</td>\n",
       "      <td>0.736975</td>\n",
       "      <td>0.000342</td>\n",
       "      <td>5</td>\n",
       "    </tr>\n",
       "  </tbody>\n",
       "</table>\n",
       "</div>"
      ],
      "text/plain": [
       "    mean_fit_time  std_fit_time  mean_score_time  std_score_time  \\\n",
       "11      43.926642      1.254246         1.548405        0.030499   \n",
       "7       43.350136      0.633756         1.572793        0.025897   \n",
       "3       43.693075      0.287183         1.585306        0.071349   \n",
       "6       43.507940      0.155494         1.545082        0.051000   \n",
       "2       43.031596      0.239244         1.707466        0.219523   \n",
       "\n",
       "   param_rfc__ccp_alpha param_tvec__max_df param_tvec__max_features  \\\n",
       "11                  0.0                1.0                     3000   \n",
       "7                   0.0                0.9                     3000   \n",
       "3                   0.0                0.7                     3000   \n",
       "6                   0.0                0.9                     2000   \n",
       "2                   0.0                0.7                     2000   \n",
       "\n",
       "   param_tvec__ngram_range                                             params  \\\n",
       "11                  (1, 2)  {'rfc__ccp_alpha': 0.0, 'tvec__max_df': 1.0, '...   \n",
       "7                   (1, 2)  {'rfc__ccp_alpha': 0.0, 'tvec__max_df': 0.9, '...   \n",
       "3                   (1, 2)  {'rfc__ccp_alpha': 0.0, 'tvec__max_df': 0.7, '...   \n",
       "6                   (1, 2)  {'rfc__ccp_alpha': 0.0, 'tvec__max_df': 0.9, '...   \n",
       "2                   (1, 2)  {'rfc__ccp_alpha': 0.0, 'tvec__max_df': 0.7, '...   \n",
       "\n",
       "    split0_test_score  split1_test_score  split2_test_score  mean_test_score  \\\n",
       "11           0.744598           0.741726           0.739524         0.741950   \n",
       "7            0.741851           0.741913           0.740024         0.741263   \n",
       "3            0.741351           0.741039           0.738650         0.740347   \n",
       "6            0.736855           0.740852           0.738400         0.738702   \n",
       "2            0.737043           0.737355           0.736527         0.736975   \n",
       "\n",
       "    std_test_score  rank_test_score  \n",
       "11        0.002078                1  \n",
       "7         0.000876                2  \n",
       "3         0.001207                3  \n",
       "6         0.001646                4  \n",
       "2         0.000342                5  "
      ]
     },
     "execution_count": 189,
     "metadata": {},
     "output_type": "execute_result"
    }
   ],
   "source": [
    "rfc_results_df.sort_values(by='rank_test_score')[:5]"
   ]
  },
  {
   "cell_type": "code",
   "execution_count": 131,
   "id": "ac27c460-23de-4a83-91f4-3a1a92cdf639",
   "metadata": {},
   "outputs": [
    {
     "data": {
      "image/png": "[encoded data removed]",
      "text/plain": [
       "<Figure size 1080x720 with 1 Axes>"
      ]
     },
     "metadata": {
      "needs_background": "light"
     },
     "output_type": "display_data"
    }
   ],
   "source": [
    "# Plotting the results from the RandomForest model gridsearch to visualize the scores and the impacts of the various hyperparameters. \n",
    "\n",
    "plt.figure(figsize=(15, 10))\n",
    "sns.scatterplot(x=rfc_results_df['mean_test_score'], y=rfc_results_df['rank_test_score'], hue=rfc_results_df['param_tvec__max_df'],\n",
    "                style=rfc_results_df['param_rfc__ccp_alpha'],size=rfc_results_df['param_tvec__max_features'], legend='full', palette=\"deep\",\n",
    "               sizes=[100, 140, 190, 250])\n",
    "plt.ylabel('Test Score Rank', fontsize=16)\n",
    "plt.xlabel('Mean Test Score', fontsize=16)\n",
    "plt.title('Cross Validation Scores for Random Forest Gridline Search', fontsize=18)\n",
    "plt.legend(markerscale=1,loc='lower left' ), \n",
    "plt.xticks(fontsize=14)\n",
    "plt.yticks(fontsize=14);\n",
    "\n"
   ]
  },
  {
   "cell_type": "markdown",
   "id": "9339d755-dd6e-4672-8804-0d8b99c3e1b2",
   "metadata": {},
   "source": [
    "Looking at the scatterplot above, we see that the highest test score by the RandomForest model was created with the following hyperparamters:\n",
    "\n",
    "* TfidfVectorizer max_df: 1.0 - indicating that it was not beneficial to try to cut out words based on how often they occur in a given subreddit. \n",
    "\n",
    "* TfidfVectorizer max_features: 3000, which was the highest I allowed this gridsearch to go.  If I try this model again, I will try with higher max_features of 4000, 5000, and None. \n",
    "\n",
    "* RandomForest alpha:  0.  In fact, all of the highest scores came with an alpha of 0 in this gridsearch.  If I run the model again, I will maintain a 0 in this position. \n",
    "\n"
   ]
  },
  {
   "cell_type": "code",
   "execution_count": 54,
   "id": "1056139d-b34a-4d61-b705-e286f2a36a66",
   "metadata": {},
   "outputs": [
    {
     "data": {
      "text/plain": [
       "0.6082491653636479"
      ]
     },
     "execution_count": 54,
     "metadata": {},
     "output_type": "execute_result"
    }
   ],
   "source": [
    "#saving the RandomForest model. \n",
    "\n",
    "# joblib.dump(logreg_gs, './models/rfc_gs.pkl')\n",
    "joblib.load('./models/rfc_gs.pkl').score(X_test, y_test)\n",
    "\n"
   ]
  },
  {
   "cell_type": "markdown",
   "id": "5d3b0c1a-7e0f-4102-bc06-26eb6c25226b",
   "metadata": {},
   "source": [
    "## <a name=\"mnb\"></a> MultinomialNB with CountVectorizer\n",
    "\n",
    "For my third model in this notebook, I tested a MultinomialNB model with a Countvectorizor transformer. I created a pipeline to for my transformer (CountVectorizer) and estimator (MultinomialNB). \n",
    "\n",
    "I used a gridsearch to test out several hyperparameters for CountVectorizer, and to test various regularization settings for MultinomialNB. \n",
    "\n",
    "Even with testing out several alpha settings, I continued to get an overfit model, with a training accuracy score of .88 and a testing accuracy score of .79. \n",
    "\n",
    "The best parameters from this gridsearch were: \n",
    "\n",
    "*  'cvec__max_df': 0.85,\n",
    "*  'cvec__max_features': None,\n",
    "*  'cvec__min_df': 2,\n",
    "*  'cvec__ngram_range': (1, 2),\n",
    "*  'cvec__stop_words': 'english',\n",
    "*  'nb__alpha': 1.0\n",
    "\n",
    "\n",
    "Options:\n",
    "* [Return to the the top of this notebook.](#top)\n",
    "* [Jump to the Next Model](#logreg_selected)"
   ]
  },
  {
   "cell_type": "code",
   "execution_count": 169,
   "id": "7c02a89c-e158-4d71-8746-750f70d75a7e",
   "metadata": {},
   "outputs": [],
   "source": [
    "# Setting up pipeline with transformer(cvec) and estimator(nb)\n",
    "\n",
    "pipe = Pipeline([\n",
    "    ('cvec', CountVectorizer()),\n",
    "    ('nb', MultinomialNB())\n",
    "])"
   ]
  },
  {
   "cell_type": "code",
   "execution_count": 176,
   "id": "458c36e9-120b-4f46-9ad6-e65cf76baa9c",
   "metadata": {},
   "outputs": [],
   "source": [
    "# setting up hyperparameters for gridsearch. \n",
    "\n",
    "pipe_params = {\n",
    "    'cvec__max_features': [None, 2_000],\n",
    "    'cvec__min_df': [2, 3],\n",
    "    'cvec__stop_words': ['english'],\n",
    "    'cvec__max_df': [.85, .90],\n",
    "    'cvec__ngram_range': [(1, 1), (1, 2)],\n",
    "    'nb__alpha': [.01, .001, 1.0]\n",
    "}"
   ]
  },
  {
   "cell_type": "code",
   "execution_count": 177,
   "id": "43b4bd68-94d2-4fdb-ba56-def84d646e5f",
   "metadata": {},
   "outputs": [],
   "source": [
    "# instantiating gridsearch\n",
    "\n",
    "gs = GridSearchCV(pipe, \n",
    "                  param_grid=pipe_params, \n",
    "                  cv = 3) "
   ]
  },
  {
   "cell_type": "code",
   "execution_count": 178,
   "id": "39926253-2cb6-47f4-9ded-338e7f016043",
   "metadata": {},
   "outputs": [
    {
     "data": {
      "text/plain": [
       "GridSearchCV(cv=3,\n",
       "             estimator=Pipeline(steps=[('cvec', CountVectorizer()),\n",
       "                                       ('nb', MultinomialNB())]),\n",
       "             param_grid={'cvec__max_df': [0.85, 0.9],\n",
       "                         'cvec__max_features': [None, 2000],\n",
       "                         'cvec__min_df': [2, 3],\n",
       "                         'cvec__ngram_range': [(1, 1), (1, 2)],\n",
       "                         'cvec__stop_words': ['english'],\n",
       "                         'nb__alpha': [0.01, 0.001, 1.0]})"
      ]
     },
     "execution_count": 178,
     "metadata": {},
     "output_type": "execute_result"
    }
   ],
   "source": [
    "# UNCOMMENT THIS CODE TO RUN FIT ON MODEL\n",
    "# Code has been commented out due to the time required to run this gridsearch. \n",
    "\n",
    "# fitting the gridsearch model. \n",
    "\n",
    "# gs.fit(X_train, y_train)"
   ]
  },
  {
   "cell_type": "code",
   "execution_count": 180,
   "id": "db9f41ce-bb33-410b-836f-f0f7ba466860",
   "metadata": {},
   "outputs": [
    {
     "data": {
      "text/plain": [
       "(0.8829749588892821, 0.794616067278029)"
      ]
     },
     "execution_count": 180,
     "metadata": {},
     "output_type": "execute_result"
    }
   ],
   "source": [
    "#training and testing accuracy scores\n",
    "\n",
    "gs.score(X_train, y_train), gs.score(X_test, y_test)"
   ]
  },
  {
   "cell_type": "code",
   "execution_count": 181,
   "id": "1eeda44e-340c-486e-9368-d792b99c5654",
   "metadata": {},
   "outputs": [
    {
     "data": {
      "text/plain": [
       "{'cvec__max_df': 0.85,\n",
       " 'cvec__max_features': None,\n",
       " 'cvec__min_df': 2,\n",
       " 'cvec__ngram_range': (1, 2),\n",
       " 'cvec__stop_words': 'english',\n",
       " 'nb__alpha': 1.0}"
      ]
     },
     "execution_count": 181,
     "metadata": {},
     "output_type": "execute_result"
    }
   ],
   "source": [
    "#checking best parameters used.\n",
    "\n",
    "gs.best_params_"
   ]
  },
  {
   "cell_type": "code",
   "execution_count": 187,
   "id": "98746fd9-949e-4e7f-9fd7-2111bb2aa775",
   "metadata": {},
   "outputs": [
    {
     "data": {
      "text/plain": [
       "['./models/multinomialnb.pkl']"
      ]
     },
     "execution_count": 187,
     "metadata": {},
     "output_type": "execute_result"
    }
   ],
   "source": [
    "# saving the model. \n",
    "\n",
    "#joblib.dump(gs, './models/multinomialnb.pkl')"
   ]
  },
  {
   "cell_type": "code",
   "execution_count": 182,
   "id": "e989bf49-11d5-41c3-88af-67db9e82096b",
   "metadata": {},
   "outputs": [],
   "source": [
    "#  Looking at the cross validation results.\n",
    "\n",
    "gs_results_df = pd.DataFrame(gs.cv_results_)"
   ]
  },
  {
   "cell_type": "code",
   "execution_count": 204,
   "id": "55430995-378f-40a8-83f0-6d6d338f0752",
   "metadata": {},
   "outputs": [
    {
     "data": {
      "text/html": [
       "<div>\n",
       "<style scoped>\n",
       "    .dataframe tbody tr th:only-of-type {\n",
       "        vertical-align: middle;\n",
       "    }\n",
       "\n",
       "    .dataframe tbody tr th {\n",
       "        vertical-align: top;\n",
       "    }\n",
       "\n",
       "    .dataframe thead th {\n",
       "        text-align: right;\n",
       "    }\n",
       "</style>\n",
       "<table border=\"1\" class=\"dataframe\">\n",
       "  <thead>\n",
       "    <tr style=\"text-align: right;\">\n",
       "      <th></th>\n",
       "      <th>mean_fit_time</th>\n",
       "      <th>std_fit_time</th>\n",
       "      <th>mean_score_time</th>\n",
       "      <th>std_score_time</th>\n",
       "      <th>param_cvec__max_df</th>\n",
       "      <th>param_cvec__max_features</th>\n",
       "      <th>param_cvec__min_df</th>\n",
       "      <th>param_cvec__ngram_range</th>\n",
       "      <th>param_cvec__stop_words</th>\n",
       "      <th>param_nb__alpha</th>\n",
       "      <th>params</th>\n",
       "      <th>split0_test_score</th>\n",
       "      <th>split1_test_score</th>\n",
       "      <th>split2_test_score</th>\n",
       "      <th>mean_test_score</th>\n",
       "      <th>std_test_score</th>\n",
       "      <th>rank_test_score</th>\n",
       "    </tr>\n",
       "  </thead>\n",
       "  <tbody>\n",
       "    <tr>\n",
       "      <th>0</th>\n",
       "      <td>0.546951</td>\n",
       "      <td>0.003407</td>\n",
       "      <td>0.253967</td>\n",
       "      <td>0.002369</td>\n",
       "      <td>0.85</td>\n",
       "      <td>None</td>\n",
       "      <td>2</td>\n",
       "      <td>(1, 1)</td>\n",
       "      <td>english</td>\n",
       "      <td>0.01</td>\n",
       "      <td>{'cvec__max_df': 0.85, 'cvec__max_features': N...</td>\n",
       "      <td>0.783190</td>\n",
       "      <td>0.782315</td>\n",
       "      <td>0.780179</td>\n",
       "      <td>0.781895</td>\n",
       "      <td>0.001265</td>\n",
       "      <td>9</td>\n",
       "    </tr>\n",
       "    <tr>\n",
       "      <th>1</th>\n",
       "      <td>0.542767</td>\n",
       "      <td>0.000672</td>\n",
       "      <td>0.255290</td>\n",
       "      <td>0.002309</td>\n",
       "      <td>0.85</td>\n",
       "      <td>None</td>\n",
       "      <td>2</td>\n",
       "      <td>(1, 1)</td>\n",
       "      <td>english</td>\n",
       "      <td>0.001</td>\n",
       "      <td>{'cvec__max_df': 0.85, 'cvec__max_features': N...</td>\n",
       "      <td>0.780067</td>\n",
       "      <td>0.780442</td>\n",
       "      <td>0.777306</td>\n",
       "      <td>0.779272</td>\n",
       "      <td>0.001398</td>\n",
       "      <td>19</td>\n",
       "    </tr>\n",
       "    <tr>\n",
       "      <th>2</th>\n",
       "      <td>0.540304</td>\n",
       "      <td>0.001245</td>\n",
       "      <td>0.251858</td>\n",
       "      <td>0.000833</td>\n",
       "      <td>0.85</td>\n",
       "      <td>None</td>\n",
       "      <td>2</td>\n",
       "      <td>(1, 1)</td>\n",
       "      <td>english</td>\n",
       "      <td>1.0</td>\n",
       "      <td>{'cvec__max_df': 0.85, 'cvec__max_features': N...</td>\n",
       "      <td>0.787249</td>\n",
       "      <td>0.789497</td>\n",
       "      <td>0.787797</td>\n",
       "      <td>0.788181</td>\n",
       "      <td>0.000957</td>\n",
       "      <td>5</td>\n",
       "    </tr>\n",
       "    <tr>\n",
       "      <th>3</th>\n",
       "      <td>1.144430</td>\n",
       "      <td>0.022854</td>\n",
       "      <td>0.419355</td>\n",
       "      <td>0.015768</td>\n",
       "      <td>0.85</td>\n",
       "      <td>None</td>\n",
       "      <td>2</td>\n",
       "      <td>(1, 2)</td>\n",
       "      <td>english</td>\n",
       "      <td>0.01</td>\n",
       "      <td>{'cvec__max_df': 0.85, 'cvec__max_features': N...</td>\n",
       "      <td>0.780879</td>\n",
       "      <td>0.780317</td>\n",
       "      <td>0.776931</td>\n",
       "      <td>0.779376</td>\n",
       "      <td>0.001744</td>\n",
       "      <td>17</td>\n",
       "    </tr>\n",
       "    <tr>\n",
       "      <th>4</th>\n",
       "      <td>1.136340</td>\n",
       "      <td>0.023296</td>\n",
       "      <td>0.409344</td>\n",
       "      <td>0.012941</td>\n",
       "      <td>0.85</td>\n",
       "      <td>None</td>\n",
       "      <td>2</td>\n",
       "      <td>(1, 2)</td>\n",
       "      <td>english</td>\n",
       "      <td>0.001</td>\n",
       "      <td>{'cvec__max_df': 0.85, 'cvec__max_features': N...</td>\n",
       "      <td>0.775759</td>\n",
       "      <td>0.774760</td>\n",
       "      <td>0.771186</td>\n",
       "      <td>0.773901</td>\n",
       "      <td>0.001963</td>\n",
       "      <td>23</td>\n",
       "    </tr>\n",
       "  </tbody>\n",
       "</table>\n",
       "</div>"
      ],
      "text/plain": [
       "   mean_fit_time  std_fit_time  mean_score_time  std_score_time  \\\n",
       "0       0.546951      0.003407         0.253967        0.002369   \n",
       "1       0.542767      0.000672         0.255290        0.002309   \n",
       "2       0.540304      0.001245         0.251858        0.000833   \n",
       "3       1.144430      0.022854         0.419355        0.015768   \n",
       "4       1.136340      0.023296         0.409344        0.012941   \n",
       "\n",
       "  param_cvec__max_df param_cvec__max_features param_cvec__min_df  \\\n",
       "0               0.85                     None                  2   \n",
       "1               0.85                     None                  2   \n",
       "2               0.85                     None                  2   \n",
       "3               0.85                     None                  2   \n",
       "4               0.85                     None                  2   \n",
       "\n",
       "  param_cvec__ngram_range param_cvec__stop_words param_nb__alpha  \\\n",
       "0                  (1, 1)                english            0.01   \n",
       "1                  (1, 1)                english           0.001   \n",
       "2                  (1, 1)                english             1.0   \n",
       "3                  (1, 2)                english            0.01   \n",
       "4                  (1, 2)                english           0.001   \n",
       "\n",
       "                                              params  split0_test_score  \\\n",
       "0  {'cvec__max_df': 0.85, 'cvec__max_features': N...           0.783190   \n",
       "1  {'cvec__max_df': 0.85, 'cvec__max_features': N...           0.780067   \n",
       "2  {'cvec__max_df': 0.85, 'cvec__max_features': N...           0.787249   \n",
       "3  {'cvec__max_df': 0.85, 'cvec__max_features': N...           0.780879   \n",
       "4  {'cvec__max_df': 0.85, 'cvec__max_features': N...           0.775759   \n",
       "\n",
       "   split1_test_score  split2_test_score  mean_test_score  std_test_score  \\\n",
       "0           0.782315           0.780179         0.781895        0.001265   \n",
       "1           0.780442           0.777306         0.779272        0.001398   \n",
       "2           0.789497           0.787797         0.788181        0.000957   \n",
       "3           0.780317           0.776931         0.779376        0.001744   \n",
       "4           0.774760           0.771186         0.773901        0.001963   \n",
       "\n",
       "   rank_test_score  \n",
       "0                9  \n",
       "1               19  \n",
       "2                5  \n",
       "3               17  \n",
       "4               23  "
      ]
     },
     "execution_count": 204,
     "metadata": {},
     "output_type": "execute_result"
    }
   ],
   "source": [
    "gs_results_df.head()"
   ]
  },
  {
   "cell_type": "markdown",
   "id": "a28caf40-5445-4b93-ba51-edf2a1e0e22a",
   "metadata": {},
   "source": [
    "# <a name=\"logreg_selected\"></a>Selected Model: LogisticRegression with TF IDF Vectorizer\n",
    "\n",
    "For my fourth and final model in this notebook, I tested a simplied LogisticRegression model. I created a pipeline to for my transformer (TfidfVectorizer) and estimator (LogisticRegression). \n",
    "\n",
    "Instead of using a gridsearch for this model, I took what I'd learned in earlier model attempts and kept most settings as their defaults, but landed an alpha regularization setting of .15 after some testing. \n",
    "\n",
    "With this C setting, I was able to get a well fit model with an accuracy score of 0.78. \n",
    "\n",
    "* [Return to the the top of this notebook.](#top)\n",
    "* [Jump to the Overall Conclusions](#conclusion)"
   ]
  },
  {
   "cell_type": "code",
   "execution_count": 60,
   "id": "1dbcc435-af17-46df-b280-b44d0a2e67d4",
   "metadata": {},
   "outputs": [
    {
     "data": {
      "text/plain": [
       "(0.8134926417018796, 0.7804166842750285)"
      ]
     },
     "execution_count": 60,
     "metadata": {},
     "output_type": "execute_result"
    }
   ],
   "source": [
    "# setting up a pipeline with my transformer and estimator and fitting/scoring with my training data. \n",
    "\n",
    "basic_lr_pipe = Pipeline([\n",
    "    ('tvec', TfidfVectorizer()),\n",
    "    ('logreg', LogisticRegression(solver='liblinear', C=.15))\n",
    "])\n",
    "\n",
    "basic_lr_pipe.fit(X_train, y_train)\n",
    "basic_lr_pipe.score(X_train, y_train), basic_lr_pipe.score(X_test, y_test)\n"
   ]
  },
  {
   "cell_type": "code",
   "execution_count": 61,
   "id": "3632d3f6-ffff-49fd-9acc-47a59f046ead",
   "metadata": {},
   "outputs": [
    {
     "data": {
      "text/plain": [
       "['./models/winning_lr.pkl']"
      ]
     },
     "execution_count": 61,
     "metadata": {},
     "output_type": "execute_result"
    }
   ],
   "source": [
    "# saving the model. \n",
    "\n",
    "# joblib.dump(basic_lr_pipe, './models/winning_lr.pkl')\n"
   ]
  },
  {
   "cell_type": "code",
   "execution_count": 62,
   "id": "5d512052-d8c3-40a7-8d24-f3d52bb4fabd",
   "metadata": {},
   "outputs": [
    {
     "data": {
      "text/plain": [
       "0.7804166842750285"
      ]
     },
     "execution_count": 62,
     "metadata": {},
     "output_type": "execute_result"
    }
   ],
   "source": [
    "joblib.load('./models/winning_lr.pkl').score(X_test, y_test)\n",
    "\n"
   ]
  },
  {
   "cell_type": "code",
   "execution_count": 63,
   "id": "23be02b9-a4f1-4d22-a81c-180d00b45d8f",
   "metadata": {},
   "outputs": [
    {
     "data": {
      "text/plain": [
       "0.77"
      ]
     },
     "execution_count": 63,
     "metadata": {},
     "output_type": "execute_result"
    }
   ],
   "source": [
    "#cross_val_score\n",
    "\n",
    "cross_val_score(basic_lr_pipe, X_train, y_train, cv = 3).mean().round(2)\n"
   ]
  },
  {
   "cell_type": "code",
   "execution_count": 69,
   "id": "c495bf7a-f643-414c-a1bd-b87cba65f91b",
   "metadata": {},
   "outputs": [],
   "source": [
    "# Generating prediction on my testing data. \n",
    "preds = basic_lr_pipe.predict(X_test)\n",
    "# Save confusion matrix values based on the predictions and actuals from my testing data. \n",
    "tn, fp, fn, tp = confusion_matrix(y_test, preds).ravel()\n",
    "\n"
   ]
  },
  {
   "cell_type": "code",
   "execution_count": 72,
   "id": "c43b3cd5-4fd4-464c-8424-f22dce474ffb",
   "metadata": {},
   "outputs": [
    {
     "data": {
      "text/plain": [
       "<Figure size 1440x1440 with 0 Axes>"
      ]
     },
     "metadata": {},
     "output_type": "display_data"
    },
    {
     "data": {
      "image/png": "[encoded data removed]",
      "text/plain": [
       "<Figure size 432x288 with 2 Axes>"
      ]
     },
     "metadata": {
      "needs_background": "light"
     },
     "output_type": "display_data"
    }
   ],
   "source": [
    "#plotting a confusion matrix in order to examine results.\n",
    "\n",
    "plt.figure(figsize=(20, 20))\n",
    "plot_confusion_matrix(basic_lr_pipe, X_test, y_test, cmap='Blues', values_format='d');\n",
    "\n"
   ]
  },
  {
   "cell_type": "markdown",
   "id": "99b7bda5-1602-4a76-ae71-7bc8d14465ed",
   "metadata": {},
   "source": [
    "In the confusion matrix we are able to visualize the accuracy of the model, by viewing the model predictions plotted against the actual values. "
   ]
  },
  {
   "cell_type": "code",
   "execution_count": 74,
   "id": "4f874b96-21d5-4b46-be45-cd0d473270ef",
   "metadata": {},
   "outputs": [
    {
     "name": "stdout",
     "output_type": "stream",
     "text": [
      "                     precision    recall  f1-score   support\n",
      "\n",
      "    TalesFromRetail       0.79      0.71      0.75     11017\n",
      "TalesFromYourServer       0.77      0.84      0.80     12646\n",
      "\n",
      "           accuracy                           0.78     23663\n",
      "          macro avg       0.78      0.78      0.78     23663\n",
      "       weighted avg       0.78      0.78      0.78     23663\n",
      "\n"
     ]
    }
   ],
   "source": [
    "print(classification_report(y_test, preds))\n"
   ]
  },
  {
   "cell_type": "markdown",
   "id": "ec864654-7aff-4d03-8954-21c59926c514",
   "metadata": {},
   "source": [
    "Recall/sensitivity:  True positives out of ALL positives:  71% of cases where the model predicts TalesfromRetail it is correct, and in 84% of cases when it predicted TalesFromYourServer - meaning that it is incorrect in around 30% of cases.  If this were a classification model related to something like medical data, I would lower the threshold in the model. However, for this particular model I left the threshold as is in order to avoid increasing the false negatives generated. \n"
   ]
  },
  {
   "cell_type": "markdown",
   "id": "12fafe42-2b26-4737-b219-9f03bf593050",
   "metadata": {
    "tags": []
   },
   "source": [
    "## ROC AUC\n",
    "\n",
    "Because the ROC score of this Linear Regression model is so high, 0.87, it is further evidence that this model is a strong predictor of which subreddit text is originating from. These 2 subreddits aren't perfectly separated (which would be indicated by a score of 1.0), but they are far above the .5 score that would indicate that both subreddits are essentially identical. "
   ]
  },
  {
   "cell_type": "code",
   "execution_count": 143,
   "id": "5c8c021a-0f6b-43b9-b3eb-6a7047b4b11f",
   "metadata": {},
   "outputs": [
    {
     "data": {
      "image/png": "[encoded data removed]",
      "text/plain": [
       "<Figure size 432x288 with 1 Axes>"
      ]
     },
     "metadata": {
      "needs_background": "light"
     },
     "output_type": "display_data"
    }
   ],
   "source": [
    "#ROC plot code is from General Assembly lesson 4.05.\n",
    "plot_roc_curve(basic_lr_pipe, X_test, y_test)\n",
    "plt.plot([0,1], [0,1], label = 'baseline', linestyle= '--')\n",
    "plt.title('ROC')\n",
    "plt.legend();"
   ]
  },
  {
   "cell_type": "code",
   "execution_count": 145,
   "id": "06af3b4b-d6cf-45a2-bc1b-b1dc8daf294a",
   "metadata": {},
   "outputs": [
    {
     "data": {
      "text/plain": [
       "0.8704787050668362"
      ]
     },
     "execution_count": 145,
     "metadata": {},
     "output_type": "execute_result"
    }
   ],
   "source": [
    "roc_auc_score(y_test, basic_lr_pipe.predict_proba(X_test)[:,1])"
   ]
  },
  {
   "cell_type": "markdown",
   "id": "356d77f9-0439-4dae-b715-b8795dd77533",
   "metadata": {},
   "source": [
    "## <a name=\"conclusion\"></a>Overall Conclusions\n",
    "* The model is able to differentiate between the TalesFromYourServer and the TalesFromRetail subreddits with about 80% accuracy.\n",
    "* Generally, the sentiment from both groups is fairly neutral.\n",
    "* Based on top word usage, it would appear that things like tips, food, and tables are important to servers, while things like customers are important to both servers and retail workers."
   ]
  },
  {
   "cell_type": "code",
   "execution_count": null,
   "id": "55c96184-8707-4f3d-92b2-ebc4f1233d66",
   "metadata": {},
   "outputs": [],
   "source": []
  }
 ],
 "metadata": {
  "kernelspec": {
   "display_name": "Python 3",
   "language": "python",
   "name": "python3"
  },
  "language_info": {
   "codemirror_mode": {
    "name": "ipython",
    "version": 3
   },
   "file_extension": ".py",
   "mimetype": "text/x-python",
   "name": "python",
   "nbconvert_exporter": "python",
   "pygments_lexer": "ipython3",
   "version": "3.8.8"
  }
 },
 "nbformat": 4,
 "nbformat_minor": 5
}
