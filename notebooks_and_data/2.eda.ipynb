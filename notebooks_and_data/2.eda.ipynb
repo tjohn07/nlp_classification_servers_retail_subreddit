{
 "cells": [
  {
   "cell_type": "code",
   "execution_count": 1,
   "id": "faf22b5c-a538-4f5e-8009-664371be4159",
   "metadata": {},
   "outputs": [],
   "source": [
    "#imports\n",
    "\n",
    "import pandas as pd\n",
    "import seaborn as sns\n",
    "import numpy as numpy\n",
    "import matplotlib.pyplot as plt\n",
    "\n",
    "from nltk.tokenize import sent_tokenize, word_tokenize, RegexpTokenizer\n",
    "from nltk.stem import WordNetLemmatizer\n",
    "from nltk.stem.porter import PorterStemmer\n",
    "from nltk.corpus import stopwords\n",
    "from nltk.sentiment.vader import SentimentIntensityAnalyzer\n",
    "from sklearn.feature_extraction.text import CountVectorizer, TfidfVectorizer"
   ]
  },
  {
   "cell_type": "markdown",
   "id": "e080543c-ed02-4599-b71e-69bc9af83405",
   "metadata": {},
   "source": [
    "# Classifying NLP Data for the Service Industry: Comparing 2 Subreddits\n",
    "\n",
    "## Project Contents:\n",
    "\n",
    "This projects contains 4 notebooks:\n",
    "\n",
    "|Name|Description|\n",
    "|---|---|\n",
    "|1.intro_and_webscrape|Provides an introduction to the project, including problem statement and background, and the code used for gathering the data.|\n",
    "|2.eda|Displays data cleaning and exploratory data analysis.|\n",
    "|3.modeling|Builds 4 classification models.|\n",
    "|4.sentiment_analysis|Explores sentiment analysis of the language used in each subreddit|\n",
    "\n",
    "You are currently in the notebook #2: EDA.\n"
   ]
  },
  {
   "cell_type": "code",
   "execution_count": 2,
   "id": "51f1a431-a69d-4b6a-b867-d4a61d70dcc4",
   "metadata": {},
   "outputs": [],
   "source": [
    "#reading in talesfromretail.csv\n",
    "\n",
    "retail_df = pd.read_csv('./data/talesfromretail.csv').drop(columns='Unnamed: 0')"
   ]
  },
  {
   "cell_type": "code",
   "execution_count": 3,
   "id": "6107d30b-3bc8-4ad2-b2ca-168de3fd19f0",
   "metadata": {},
   "outputs": [],
   "source": [
    "#reading in talesfromyourserver.csv\n",
    "\n",
    "server_df = pd.read_csv('./data/talesfromyourserver.csv').drop(columns='Unnamed: 0')"
   ]
  },
  {
   "cell_type": "code",
   "execution_count": 4,
   "id": "8925e9ba-59fc-4135-b13d-e90e2ab38cfe",
   "metadata": {},
   "outputs": [
    {
     "data": {
      "text/plain": [
       "TalesFromYourServer    186000\n",
       "TalesFromRetail           100\n",
       "Name: subreddit, dtype: int64"
      ]
     },
     "execution_count": 4,
     "metadata": {},
     "output_type": "execute_result"
    }
   ],
   "source": [
    "#droppping accidental retail data points from server_df\n",
    "\n",
    "server_df['subreddit'].value_counts()"
   ]
  },
  {
   "cell_type": "code",
   "execution_count": 5,
   "id": "87cfc67e-046e-44d1-b9d3-df2cf48c5336",
   "metadata": {},
   "outputs": [],
   "source": [
    "#deleted 'TalesFromRetail' lines from 'TalesFromYourServer' that were inadvertently added.\n",
    "\n",
    "server_df.drop(server_df[server_df.subreddit == 'TalesFromRetail'].index, inplace=True)"
   ]
  },
  {
   "cell_type": "code",
   "execution_count": 6,
   "id": "ae8d498f-4da4-4bfe-a826-50304fcb760a",
   "metadata": {},
   "outputs": [],
   "source": [
    "#limiting both datasets to 40_000 data points:\n",
    "\n",
    "server_df = server_df.sort_values(by='created_utc', ascending=False)[:40000]"
   ]
  },
  {
   "cell_type": "code",
   "execution_count": 7,
   "id": "73449099-d23a-4bd4-a053-dc643a41ff96",
   "metadata": {},
   "outputs": [],
   "source": [
    "retail_df = retail_df.sort_values(by='created_utc', ascending=False)[:40000]"
   ]
  },
  {
   "cell_type": "code",
   "execution_count": 8,
   "id": "8ae41c31-e3cc-4125-8ce0-d50649b6f465",
   "metadata": {},
   "outputs": [
    {
     "data": {
      "text/plain": [
       "(40000, 4)"
      ]
     },
     "execution_count": 8,
     "metadata": {},
     "output_type": "execute_result"
    }
   ],
   "source": [
    "retail_df.shape"
   ]
  },
  {
   "cell_type": "code",
   "execution_count": 9,
   "id": "b22e200b-07e5-4add-8867-02eabe541981",
   "metadata": {},
   "outputs": [
    {
     "data": {
      "text/plain": [
       "(40000, 4)"
      ]
     },
     "execution_count": 9,
     "metadata": {},
     "output_type": "execute_result"
    }
   ],
   "source": [
    "server_df.shape"
   ]
  },
  {
   "cell_type": "code",
   "execution_count": 10,
   "id": "8d60809a-4fd2-472f-afa4-63ae0788899b",
   "metadata": {},
   "outputs": [
    {
     "data": {
      "text/html": [
       "<div>\n",
       "<style scoped>\n",
       "    .dataframe tbody tr th:only-of-type {\n",
       "        vertical-align: middle;\n",
       "    }\n",
       "\n",
       "    .dataframe tbody tr th {\n",
       "        vertical-align: top;\n",
       "    }\n",
       "\n",
       "    .dataframe thead th {\n",
       "        text-align: right;\n",
       "    }\n",
       "</style>\n",
       "<table border=\"1\" class=\"dataframe\">\n",
       "  <thead>\n",
       "    <tr style=\"text-align: right;\">\n",
       "      <th></th>\n",
       "      <th>body</th>\n",
       "      <th>subreddit</th>\n",
       "      <th>author</th>\n",
       "      <th>created_utc</th>\n",
       "    </tr>\n",
       "  </thead>\n",
       "  <tbody>\n",
       "    <tr>\n",
       "      <th>2799</th>\n",
       "      <td>The TFR Express Lane is provided for your shor...</td>\n",
       "      <td>TalesFromRetail</td>\n",
       "      <td>AutoModerator</td>\n",
       "      <td>1633521622</td>\n",
       "    </tr>\n",
       "    <tr>\n",
       "      <th>6217</th>\n",
       "      <td>The TFR Express Lane is provided for your shor...</td>\n",
       "      <td>TalesFromRetail</td>\n",
       "      <td>AutoModerator</td>\n",
       "      <td>1630929616</td>\n",
       "    </tr>\n",
       "    <tr>\n",
       "      <th>7578</th>\n",
       "      <td>The TFR Express Lane is provided for your shor...</td>\n",
       "      <td>TalesFromRetail</td>\n",
       "      <td>AutoModerator</td>\n",
       "      <td>1630324829</td>\n",
       "    </tr>\n",
       "    <tr>\n",
       "      <th>8772</th>\n",
       "      <td>The TFR Express Lane is provided for your shor...</td>\n",
       "      <td>TalesFromRetail</td>\n",
       "      <td>AutoModerator</td>\n",
       "      <td>1629720026</td>\n",
       "    </tr>\n",
       "    <tr>\n",
       "      <th>10226</th>\n",
       "      <td>The TFR Express Lane is provided for your shor...</td>\n",
       "      <td>TalesFromRetail</td>\n",
       "      <td>AutoModerator</td>\n",
       "      <td>1629227343</td>\n",
       "    </tr>\n",
       "  </tbody>\n",
       "</table>\n",
       "</div>"
      ],
      "text/plain": [
       "                                                    body        subreddit  \\\n",
       "2799   The TFR Express Lane is provided for your shor...  TalesFromRetail   \n",
       "6217   The TFR Express Lane is provided for your shor...  TalesFromRetail   \n",
       "7578   The TFR Express Lane is provided for your shor...  TalesFromRetail   \n",
       "8772   The TFR Express Lane is provided for your shor...  TalesFromRetail   \n",
       "10226  The TFR Express Lane is provided for your shor...  TalesFromRetail   \n",
       "\n",
       "              author  created_utc  \n",
       "2799   AutoModerator   1633521622  \n",
       "6217   AutoModerator   1630929616  \n",
       "7578   AutoModerator   1630324829  \n",
       "8772   AutoModerator   1629720026  \n",
       "10226  AutoModerator   1629227343  "
      ]
     },
     "execution_count": 10,
     "metadata": {},
     "output_type": "execute_result"
    }
   ],
   "source": [
    "#looking at automoderator messages and determined they do not add value and should be deleted.\n",
    "\n",
    "retail_df[retail_df['body'].str.contains('The TFR Express Lane is provided for your')][:5]"
   ]
  },
  {
   "cell_type": "code",
   "execution_count": 11,
   "id": "d27707b3-0173-4f3b-bb5d-850eaf5a2d03",
   "metadata": {},
   "outputs": [
    {
     "data": {
      "text/plain": [
       "2799     The TFR Express Lane is provided for your shor...\n",
       "6217     The TFR Express Lane is provided for your shor...\n",
       "7578     The TFR Express Lane is provided for your shor...\n",
       "8772     The TFR Express Lane is provided for your shor...\n",
       "10226    The TFR Express Lane is provided for your shor...\n",
       "10433    The TFR Express Lane is provided for your shor...\n",
       "10482    The TFR Express Lane is provided for your shor...\n",
       "35630    The TFR Express Lane is provided for your shor...\n",
       "36333    The TFR Express Lane is provided for your shor...\n",
       "36847    The TFR Express Lane is provided for your shor...\n",
       "37136    The TFR Express Lane is provided for your shor...\n",
       "38471    The TFR Express Lane is provided for your shor...\n",
       "39062    The TFR Express Lane is provided for your shor...\n",
       "Name: body, dtype: object"
      ]
     },
     "execution_count": 11,
     "metadata": {},
     "output_type": "execute_result"
    }
   ],
   "source": [
    "# Delete AutoModerator messages\n",
    "\n",
    "retail_df[retail_df['author'] == 'AutoModerator']['body']"
   ]
  },
  {
   "cell_type": "code",
   "execution_count": 12,
   "id": "8b9c5a30-e7ed-438b-a0d8-26b99953b1e3",
   "metadata": {},
   "outputs": [
    {
     "data": {
      "text/plain": [
       "count         40000\n",
       "unique        33258\n",
       "top       [removed]\n",
       "freq           6117\n",
       "Name: body, dtype: object"
      ]
     },
     "execution_count": 12,
     "metadata": {},
     "output_type": "execute_result"
    }
   ],
   "source": [
    "retail_df['body'].describe()"
   ]
  },
  {
   "cell_type": "code",
   "execution_count": 13,
   "id": "c1453450-b580-46cd-9a0c-1e772ca2b9b6",
   "metadata": {},
   "outputs": [
    {
     "data": {
      "text/html": [
       "<div>\n",
       "<style scoped>\n",
       "    .dataframe tbody tr th:only-of-type {\n",
       "        vertical-align: middle;\n",
       "    }\n",
       "\n",
       "    .dataframe tbody tr th {\n",
       "        vertical-align: top;\n",
       "    }\n",
       "\n",
       "    .dataframe thead th {\n",
       "        text-align: right;\n",
       "    }\n",
       "</style>\n",
       "<table border=\"1\" class=\"dataframe\">\n",
       "  <thead>\n",
       "    <tr style=\"text-align: right;\">\n",
       "      <th></th>\n",
       "      <th>body</th>\n",
       "      <th>subreddit</th>\n",
       "      <th>author</th>\n",
       "      <th>created_utc</th>\n",
       "    </tr>\n",
       "  </thead>\n",
       "  <tbody>\n",
       "    <tr>\n",
       "      <th>2270</th>\n",
       "      <td>I thought the same! Happy cake day!</td>\n",
       "      <td>TalesFromRetail</td>\n",
       "      <td>madeofmold</td>\n",
       "      <td>1633818665</td>\n",
       "    </tr>\n",
       "    <tr>\n",
       "      <th>2411</th>\n",
       "      <td>Happy cake day!</td>\n",
       "      <td>TalesFromRetail</td>\n",
       "      <td>meerku</td>\n",
       "      <td>1633757593</td>\n",
       "    </tr>\n",
       "    <tr>\n",
       "      <th>2475</th>\n",
       "      <td>Happy cake day!</td>\n",
       "      <td>TalesFromRetail</td>\n",
       "      <td>sisterwifenumber9</td>\n",
       "      <td>1633733431</td>\n",
       "    </tr>\n",
       "    <tr>\n",
       "      <th>8108</th>\n",
       "      <td>Happy cake day!</td>\n",
       "      <td>TalesFromRetail</td>\n",
       "      <td>Agitated-Handle-7750</td>\n",
       "      <td>1629976925</td>\n",
       "    </tr>\n",
       "    <tr>\n",
       "      <th>30391</th>\n",
       "      <td>Happy cake day!</td>\n",
       "      <td>TalesFromRetail</td>\n",
       "      <td>Ryger9</td>\n",
       "      <td>1619671581</td>\n",
       "    </tr>\n",
       "  </tbody>\n",
       "</table>\n",
       "</div>"
      ],
      "text/plain": [
       "                                      body        subreddit  \\\n",
       "2270   I thought the same! Happy cake day!  TalesFromRetail   \n",
       "2411                       Happy cake day!  TalesFromRetail   \n",
       "2475                       Happy cake day!  TalesFromRetail   \n",
       "8108                       Happy cake day!  TalesFromRetail   \n",
       "30391                      Happy cake day!  TalesFromRetail   \n",
       "\n",
       "                     author  created_utc  \n",
       "2270             madeofmold   1633818665  \n",
       "2411                 meerku   1633757593  \n",
       "2475      sisterwifenumber9   1633733431  \n",
       "8108   Agitated-Handle-7750   1629976925  \n",
       "30391                Ryger9   1619671581  "
      ]
     },
     "execution_count": 13,
     "metadata": {},
     "output_type": "execute_result"
    }
   ],
   "source": [
    "# Research indicates that 'Happy Cake Day' is posted on one's reddit anniversary. I will delete this entries. \n",
    "\n",
    "retail_df[retail_df['body'].str.contains('Happy cake day!')][:5]"
   ]
  },
  {
   "cell_type": "code",
   "execution_count": 14,
   "id": "9e7516a3-59b8-4a17-91e8-2cfaf938808d",
   "metadata": {},
   "outputs": [
    {
     "data": {
      "text/plain": [
       "count         40000\n",
       "unique        33258\n",
       "top       [removed]\n",
       "freq           6117\n",
       "Name: body, dtype: object"
      ]
     },
     "execution_count": 14,
     "metadata": {},
     "output_type": "execute_result"
    }
   ],
   "source": [
    "retail_df['body'].describe()"
   ]
  },
  {
   "cell_type": "code",
   "execution_count": 15,
   "id": "846d5f52-63e8-4268-a2a9-d69da9a7ae02",
   "metadata": {},
   "outputs": [],
   "source": [
    "# A code to clean and prep my data for NLP classification modeling.  This code removes items that are not needed, tokenizes, \n",
    "# removes english stopwords, removes words of 2 letters or less, and lemmatizes the text into a new column. . \n",
    "\n",
    "def clean_the_data(some_reddit_df):\n",
    "    #dropping 'removed' body. \n",
    "    some_reddit_df.drop(some_reddit_df[some_reddit_df.body == '[removed]'].index, inplace=True)\n",
    "    #dropping 'deleted' body.\n",
    "    some_reddit_df.drop(some_reddit_df[some_reddit_df.body == '[deleted]'].index, inplace=True)\n",
    "    #dropping automoderator comments.\n",
    "    some_reddit_df.drop(some_reddit_df[some_reddit_df.author == 'AutoModerator'].index, inplace=True)\n",
    "    #dropping happy cake day comments.\n",
    "    some_reddit_df.drop(some_reddit_df[some_reddit_df.body.str.contains('Happy cake day!')].index, inplace=True)\n",
    "    #adding a word count column\n",
    "    some_reddit_df['comment_length']=[len(comment) for comment in some_reddit_df['body']]\n",
    "    #resetting the index\n",
    "    some_reddit_df.reset_index(drop=True, inplace=True)\n",
    "    \n",
    "    \n",
    "    #tokenize into a new column\n",
    "    tokenizer = RegexpTokenizer(r'\\w+')\n",
    "    some_reddit_df['comment_tokens'] = [word_tokenize(row.lower()) for row in some_reddit_df['body']]\n",
    "            \n",
    "    #remove stopwords(english)\n",
    "    for line in some_reddit_df['comment_tokens']:\n",
    "        for idx, token in enumerate(line):\n",
    "            if token in stopwords.words('english'):\n",
    "                line.pop(idx)\n",
    "            \n",
    "    #lemmatize\n",
    "    lemmatizer = WordNetLemmatizer()\n",
    "    for row  in some_reddit_df['comment_tokens']:\n",
    "        for item in row:\n",
    "            lemmatizer.lemmatize(item)\n",
    "            \n",
    "    #remove words with 2 letters or less. \n",
    "    for line in some_reddit_df['comment_tokens']:\n",
    "        for idx, word in enumerate(line):\n",
    "            if len(word) <= 2:\n",
    "                line.pop(idx)\n",
    "       \n",
    "    #joined tokens\n",
    "    some_reddit_df['comment_tokens'] = [' '.join(word) for word in some_reddit_df['comment_tokens']]\n",
    "    \n",
    "\n",
    "\n",
    "    \n"
   ]
  },
  {
   "cell_type": "code",
   "execution_count": 16,
   "id": "6fc1691c-060c-4660-aec0-c20facc830b4",
   "metadata": {},
   "outputs": [],
   "source": [
    "#Cleaning the talesfromyourserver data\n",
    "\n",
    "clean_the_data(server_df)"
   ]
  },
  {
   "cell_type": "code",
   "execution_count": 17,
   "id": "c29e1669-6a3e-4b4a-a60d-b8d2e23d4f6d",
   "metadata": {},
   "outputs": [
    {
     "data": {
      "text/html": [
       "<div>\n",
       "<style scoped>\n",
       "    .dataframe tbody tr th:only-of-type {\n",
       "        vertical-align: middle;\n",
       "    }\n",
       "\n",
       "    .dataframe tbody tr th {\n",
       "        vertical-align: top;\n",
       "    }\n",
       "\n",
       "    .dataframe thead th {\n",
       "        text-align: right;\n",
       "    }\n",
       "</style>\n",
       "<table border=\"1\" class=\"dataframe\">\n",
       "  <thead>\n",
       "    <tr style=\"text-align: right;\">\n",
       "      <th></th>\n",
       "      <th>body</th>\n",
       "      <th>subreddit</th>\n",
       "      <th>author</th>\n",
       "      <th>created_utc</th>\n",
       "      <th>comment_length</th>\n",
       "      <th>comment_tokens</th>\n",
       "    </tr>\n",
       "  </thead>\n",
       "  <tbody>\n",
       "    <tr>\n",
       "      <th>0</th>\n",
       "      <td>Yes, your local health department will have a ...</td>\n",
       "      <td>TalesFromYourServer</td>\n",
       "      <td>MistressMaiden</td>\n",
       "      <td>1635308008</td>\n",
       "      <td>63</td>\n",
       "      <td>yes local health department have hay day this</td>\n",
       "    </tr>\n",
       "    <tr>\n",
       "      <th>1</th>\n",
       "      <td>Call the local health department and local new...</td>\n",
       "      <td>TalesFromYourServer</td>\n",
       "      <td>Hum_cat_7711</td>\n",
       "      <td>1635307985</td>\n",
       "      <td>50</td>\n",
       "      <td>call local health department local news</td>\n",
       "    </tr>\n",
       "    <tr>\n",
       "      <th>2</th>\n",
       "      <td>Normal day when serving</td>\n",
       "      <td>TalesFromYourServer</td>\n",
       "      <td>jenatalias</td>\n",
       "      <td>1635307799</td>\n",
       "      <td>23</td>\n",
       "      <td>normal day serving</td>\n",
       "    </tr>\n",
       "    <tr>\n",
       "      <th>3</th>\n",
       "      <td>It really sucks when bad things happen to go...</td>\n",
       "      <td>TalesFromYourServer</td>\n",
       "      <td>ZebonskiSam</td>\n",
       "      <td>1635307756</td>\n",
       "      <td>512</td>\n",
       "      <td>really sucks bad things happen good people lot...</td>\n",
       "    </tr>\n",
       "    <tr>\n",
       "      <th>4</th>\n",
       "      <td>Lawyer wanting people to go to lawyers? Surprise?</td>\n",
       "      <td>TalesFromYourServer</td>\n",
       "      <td>Justgetmeabeer</td>\n",
       "      <td>1635307726</td>\n",
       "      <td>49</td>\n",
       "      <td>lawyer wanting people lawyers surprise</td>\n",
       "    </tr>\n",
       "  </tbody>\n",
       "</table>\n",
       "</div>"
      ],
      "text/plain": [
       "                                                body            subreddit  \\\n",
       "0  Yes, your local health department will have a ...  TalesFromYourServer   \n",
       "1  Call the local health department and local new...  TalesFromYourServer   \n",
       "2                            Normal day when serving  TalesFromYourServer   \n",
       "3    It really sucks when bad things happen to go...  TalesFromYourServer   \n",
       "4  Lawyer wanting people to go to lawyers? Surprise?  TalesFromYourServer   \n",
       "\n",
       "           author  created_utc  comment_length  \\\n",
       "0  MistressMaiden   1635308008              63   \n",
       "1    Hum_cat_7711   1635307985              50   \n",
       "2      jenatalias   1635307799              23   \n",
       "3     ZebonskiSam   1635307756             512   \n",
       "4  Justgetmeabeer   1635307726              49   \n",
       "\n",
       "                                      comment_tokens  \n",
       "0      yes local health department have hay day this  \n",
       "1            call local health department local news  \n",
       "2                                 normal day serving  \n",
       "3  really sucks bad things happen good people lot...  \n",
       "4             lawyer wanting people lawyers surprise  "
      ]
     },
     "execution_count": 17,
     "metadata": {},
     "output_type": "execute_result"
    }
   ],
   "source": [
    "server_df.head()"
   ]
  },
  {
   "cell_type": "code",
   "execution_count": 18,
   "id": "3fa58da4-84d4-4664-9d05-f64518c6e688",
   "metadata": {},
   "outputs": [],
   "source": [
    "#cleaning the talesfromretail data. \n",
    "\n",
    "clean_the_data(retail_df)"
   ]
  },
  {
   "cell_type": "code",
   "execution_count": 19,
   "id": "85826b05-e7c0-471a-b0b6-1e7befede6f3",
   "metadata": {},
   "outputs": [
    {
     "data": {
      "text/html": [
       "<div>\n",
       "<style scoped>\n",
       "    .dataframe tbody tr th:only-of-type {\n",
       "        vertical-align: middle;\n",
       "    }\n",
       "\n",
       "    .dataframe tbody tr th {\n",
       "        vertical-align: top;\n",
       "    }\n",
       "\n",
       "    .dataframe thead th {\n",
       "        text-align: right;\n",
       "    }\n",
       "</style>\n",
       "<table border=\"1\" class=\"dataframe\">\n",
       "  <thead>\n",
       "    <tr style=\"text-align: right;\">\n",
       "      <th></th>\n",
       "      <th>body</th>\n",
       "      <th>subreddit</th>\n",
       "      <th>author</th>\n",
       "      <th>created_utc</th>\n",
       "      <th>comment_length</th>\n",
       "      <th>comment_tokens</th>\n",
       "    </tr>\n",
       "  </thead>\n",
       "  <tbody>\n",
       "    <tr>\n",
       "      <th>0</th>\n",
       "      <td>Yes, your local health department will have a ...</td>\n",
       "      <td>TalesFromYourServer</td>\n",
       "      <td>MistressMaiden</td>\n",
       "      <td>1635308008</td>\n",
       "      <td>63</td>\n",
       "      <td>yes local health department have hay day this</td>\n",
       "    </tr>\n",
       "    <tr>\n",
       "      <th>1</th>\n",
       "      <td>Call the local health department and local new...</td>\n",
       "      <td>TalesFromYourServer</td>\n",
       "      <td>Hum_cat_7711</td>\n",
       "      <td>1635307985</td>\n",
       "      <td>50</td>\n",
       "      <td>call local health department local news</td>\n",
       "    </tr>\n",
       "    <tr>\n",
       "      <th>2</th>\n",
       "      <td>Normal day when serving</td>\n",
       "      <td>TalesFromYourServer</td>\n",
       "      <td>jenatalias</td>\n",
       "      <td>1635307799</td>\n",
       "      <td>23</td>\n",
       "      <td>normal day serving</td>\n",
       "    </tr>\n",
       "    <tr>\n",
       "      <th>3</th>\n",
       "      <td>It really sucks when bad things happen to go...</td>\n",
       "      <td>TalesFromYourServer</td>\n",
       "      <td>ZebonskiSam</td>\n",
       "      <td>1635307756</td>\n",
       "      <td>512</td>\n",
       "      <td>really sucks bad things happen good people lot...</td>\n",
       "    </tr>\n",
       "    <tr>\n",
       "      <th>4</th>\n",
       "      <td>Lawyer wanting people to go to lawyers? Surprise?</td>\n",
       "      <td>TalesFromYourServer</td>\n",
       "      <td>Justgetmeabeer</td>\n",
       "      <td>1635307726</td>\n",
       "      <td>49</td>\n",
       "      <td>lawyer wanting people lawyers surprise</td>\n",
       "    </tr>\n",
       "  </tbody>\n",
       "</table>\n",
       "</div>"
      ],
      "text/plain": [
       "                                                body            subreddit  \\\n",
       "0  Yes, your local health department will have a ...  TalesFromYourServer   \n",
       "1  Call the local health department and local new...  TalesFromYourServer   \n",
       "2                            Normal day when serving  TalesFromYourServer   \n",
       "3    It really sucks when bad things happen to go...  TalesFromYourServer   \n",
       "4  Lawyer wanting people to go to lawyers? Surprise?  TalesFromYourServer   \n",
       "\n",
       "           author  created_utc  comment_length  \\\n",
       "0  MistressMaiden   1635308008              63   \n",
       "1    Hum_cat_7711   1635307985              50   \n",
       "2      jenatalias   1635307799              23   \n",
       "3     ZebonskiSam   1635307756             512   \n",
       "4  Justgetmeabeer   1635307726              49   \n",
       "\n",
       "                                      comment_tokens  \n",
       "0      yes local health department have hay day this  \n",
       "1            call local health department local news  \n",
       "2                                 normal day serving  \n",
       "3  really sucks bad things happen good people lot...  \n",
       "4             lawyer wanting people lawyers surprise  "
      ]
     },
     "execution_count": 19,
     "metadata": {},
     "output_type": "execute_result"
    }
   ],
   "source": [
    "server_df.head()"
   ]
  },
  {
   "cell_type": "code",
   "execution_count": 20,
   "id": "e2406f9a-9ffd-4534-b18d-7bdb52289323",
   "metadata": {},
   "outputs": [],
   "source": [
    "# concatenating retail_df and server_df into one dataframe for modeling. \n",
    "\n",
    "full_df = pd.concat([retail_df, server_df], ignore_index=True)"
   ]
  },
  {
   "cell_type": "code",
   "execution_count": 21,
   "id": "75bcfc75-d5dd-4782-9016-920d8a63ed90",
   "metadata": {},
   "outputs": [],
   "source": [
    "#double checking to drop duplicates\n",
    "\n",
    "full_df.drop_duplicates(ignore_index=True, inplace=True)"
   ]
  },
  {
   "cell_type": "code",
   "execution_count": 22,
   "id": "40fe6417-ca80-41f1-b35e-242aebd068cb",
   "metadata": {},
   "outputs": [
    {
     "data": {
      "text/plain": [
       "(71905, 6)"
      ]
     },
     "execution_count": 22,
     "metadata": {},
     "output_type": "execute_result"
    }
   ],
   "source": [
    "full_df.shape"
   ]
  },
  {
   "cell_type": "code",
   "execution_count": 23,
   "id": "d470531b-ec1e-47bf-ab83-14b6660afd21",
   "metadata": {},
   "outputs": [],
   "source": [
    "#saving the full dataframe as a csv. \n",
    "\n",
    "full_df.to_csv('./data/server_retail.csv',index=False)"
   ]
  },
  {
   "cell_type": "markdown",
   "id": "10a8b0c7-aaff-46b7-871d-74fc4758f34c",
   "metadata": {},
   "source": [
    "### A Comparison of Comment Length\n",
    "\n",
    "Looking at the histograms below, we can see that comment lengths of both subreddits follow the same pattern, with most comments falling between 1 and 200 words. "
   ]
  },
  {
   "cell_type": "code",
   "execution_count": 24,
   "id": "f81291a3-1342-4478-bc65-f90426b3afa5",
   "metadata": {},
   "outputs": [
    {
     "data": {
      "text/html": [
       "<div>\n",
       "<style scoped>\n",
       "    .dataframe tbody tr th:only-of-type {\n",
       "        vertical-align: middle;\n",
       "    }\n",
       "\n",
       "    .dataframe tbody tr th {\n",
       "        vertical-align: top;\n",
       "    }\n",
       "\n",
       "    .dataframe thead th {\n",
       "        text-align: right;\n",
       "    }\n",
       "</style>\n",
       "<table border=\"1\" class=\"dataframe\">\n",
       "  <thead>\n",
       "    <tr style=\"text-align: right;\">\n",
       "      <th></th>\n",
       "      <th>count</th>\n",
       "      <th>mean</th>\n",
       "      <th>std</th>\n",
       "      <th>min</th>\n",
       "      <th>25%</th>\n",
       "      <th>50%</th>\n",
       "      <th>75%</th>\n",
       "      <th>max</th>\n",
       "    </tr>\n",
       "    <tr>\n",
       "      <th>subreddit</th>\n",
       "      <th></th>\n",
       "      <th></th>\n",
       "      <th></th>\n",
       "      <th></th>\n",
       "      <th></th>\n",
       "      <th></th>\n",
       "      <th></th>\n",
       "      <th></th>\n",
       "    </tr>\n",
       "  </thead>\n",
       "  <tbody>\n",
       "    <tr>\n",
       "      <th>TalesFromRetail</th>\n",
       "      <td>33459.0</td>\n",
       "      <td>210.393706</td>\n",
       "      <td>234.140322</td>\n",
       "      <td>1.0</td>\n",
       "      <td>67.0</td>\n",
       "      <td>136.0</td>\n",
       "      <td>268.0</td>\n",
       "      <td>5319.0</td>\n",
       "    </tr>\n",
       "    <tr>\n",
       "      <th>TalesFromYourServer</th>\n",
       "      <td>38446.0</td>\n",
       "      <td>230.120065</td>\n",
       "      <td>283.154328</td>\n",
       "      <td>1.0</td>\n",
       "      <td>66.0</td>\n",
       "      <td>144.0</td>\n",
       "      <td>287.0</td>\n",
       "      <td>5793.0</td>\n",
       "    </tr>\n",
       "  </tbody>\n",
       "</table>\n",
       "</div>"
      ],
      "text/plain": [
       "                       count        mean         std  min   25%    50%    75%  \\\n",
       "subreddit                                                                       \n",
       "TalesFromRetail      33459.0  210.393706  234.140322  1.0  67.0  136.0  268.0   \n",
       "TalesFromYourServer  38446.0  230.120065  283.154328  1.0  66.0  144.0  287.0   \n",
       "\n",
       "                        max  \n",
       "subreddit                    \n",
       "TalesFromRetail      5319.0  \n",
       "TalesFromYourServer  5793.0  "
      ]
     },
     "execution_count": 24,
     "metadata": {},
     "output_type": "execute_result"
    }
   ],
   "source": [
    "full_df['comment_length'].groupby(full_df['subreddit']).describe()"
   ]
  },
  {
   "cell_type": "code",
   "execution_count": 25,
   "id": "96321d0c-8aeb-4c88-84ee-217dcd3c2472",
   "metadata": {},
   "outputs": [
    {
     "data": {
      "image/png": "[encoded data removed]",
      "text/plain": [
       "<Figure size 1080x432 with 1 Axes>"
      ]
     },
     "metadata": {
      "needs_background": "light"
     },
     "output_type": "display_data"
    }
   ],
   "source": [
    "plt.figure(figsize=(15,6))\n",
    "ax1 = plt.subplot(1, 1, 1)\n",
    "ax1.hist(server_df['comment_length'], bins=10, range=(0,2000))\n",
    "plt.title('Comment Length Comparison', fontsize=16)\n",
    "plt.xlabel('Comment Length', fontsize=14)\n",
    "plt.ylabel('Count', fontsize=14)\n",
    "ax1.hist(retail_df['comment_length'], bins=10, range=(0,2000));\n"
   ]
  },
  {
   "cell_type": "markdown",
   "id": "8279e665-8ffd-4e5d-9f4b-415d59b70ea3",
   "metadata": {},
   "source": [
    "### Visualizing the Top Words for each Subreddit"
   ]
  },
  {
   "cell_type": "code",
   "execution_count": 26,
   "id": "f558243b-1f04-4c54-8b54-85c5e0778709",
   "metadata": {},
   "outputs": [],
   "source": [
    "# Instanting tfidfvectorizer transformer to begin analyzing words that are strong features of each subreddit. \n",
    "\n",
    "tvec = TfidfVectorizer(stop_words='english', ngram_range=(1,2), max_features=2000)"
   ]
  },
  {
   "cell_type": "code",
   "execution_count": 27,
   "id": "89ba2cfe-262d-46b7-a269-08c28cb7ead5",
   "metadata": {},
   "outputs": [],
   "source": [
    "#Creating a dataframe of the top words from Retail. \n",
    "\n",
    "retail_transform_df = pd.DataFrame(tvec.fit_transform(retail_df['comment_tokens']).todense(), \n",
    "                          columns=tvec.get_feature_names())\n",
    "\n",
    "\n",
    "retail_top = pd.DataFrame(retail_transform_df.sum().sort_values(ascending=False).head(16), columns= ['Retail'] )\n"
   ]
  },
  {
   "cell_type": "code",
   "execution_count": 28,
   "id": "ab80da3d-f646-4004-bdd0-e086dd3ed4cb",
   "metadata": {},
   "outputs": [],
   "source": [
    "#Creating a dataframe of the top words from Server. \n",
    "\n",
    "server_transform_df = pd.DataFrame(tvec.fit_transform(server_df['comment_tokens']).todense(), \n",
    "                          columns=tvec.get_feature_names())\n",
    "\n",
    "server_top = pd.DataFrame(server_transform_df.sum().sort_values(ascending=False).head(15), columns=['Server'])\n"
   ]
  },
  {
   "cell_type": "code",
   "execution_count": 29,
   "id": "4a298d92-729a-4772-bd08-0db0af360b34",
   "metadata": {},
   "outputs": [],
   "source": [
    "# Retail has a lingering 've' that I am dropping for purposes of seeing the top 15 words. \n",
    "\n",
    "retail_top.drop(labels='ve', inplace=True)\n"
   ]
  },
  {
   "cell_type": "code",
   "execution_count": 30,
   "id": "ded3f02a-bc05-4a0d-b1f3-1aa79265a0c8",
   "metadata": {},
   "outputs": [],
   "source": [
    "# Combinging top words dataframes for retail and server. \n",
    "\n",
    "top_words = pd.concat([retail_top, server_top], axis=1, join='outer').sort_values(by='Retail')\n",
    "\n"
   ]
  },
  {
   "cell_type": "markdown",
   "id": "995134da-671a-46f3-b343-0dfec7132c7b",
   "metadata": {},
   "source": [
    "While both subreddits have several top words in common, a few differences include:\n",
    " \n",
    "Server: \n",
    "* tip\n",
    "* restaurant\n",
    "* server\n",
    "* food\n",
    "\n",
    "Retail:\n",
    "* store\n",
    "* customer"
   ]
  },
  {
   "cell_type": "code",
   "execution_count": 31,
   "id": "bce9aef3-d5b5-44a8-a534-0ab9971abe7b",
   "metadata": {},
   "outputs": [
    {
     "data": {
      "text/plain": [
       "''"
      ]
     },
     "execution_count": 31,
     "metadata": {},
     "output_type": "execute_result"
    },
    {
     "data": {
      "image/png": "[encoded data removed]",
      "text/plain": [
       "<Figure size 1440x1080 with 1 Axes>"
      ]
     },
     "metadata": {
      "needs_background": "light"
     },
     "output_type": "display_data"
    }
   ],
   "source": [
    "# Plotting the top 15 words\n",
    "top_words.plot(colormap='rainbow', use_index=True, y=[\"Retail\", \"Server\"], kind=\"barh\", figsize=(20,15), width=1)\n",
    "plt.xticks(fontsize=16)\n",
    "plt.yticks(fontsize=19)\n",
    "plt.legend(fontsize='xx-large', labelspacing=1)\n",
    "plt.title('Top 15 Most Common Words', fontsize=25)\n",
    "plt.xlabel('Word Count', fontsize=20)\n",
    "plt.ylabel('Top Words', fontsize=20)\n",
    "plt.grid(b=True, color='g', linestyle='-', linewidth=2, dash_capstyle='butt', axis='y' )\n",
    ";\n"
   ]
  }
 ],
 "metadata": {
  "kernelspec": {
   "display_name": "Python 3",
   "language": "python",
   "name": "python3"
  },
  "language_info": {
   "codemirror_mode": {
    "name": "ipython",
    "version": 3
   },
   "file_extension": ".py",
   "mimetype": "text/x-python",
   "name": "python",
   "nbconvert_exporter": "python",
   "pygments_lexer": "ipython3",
   "version": "3.8.8"
  }
 },
 "nbformat": 4,
 "nbformat_minor": 5
}
