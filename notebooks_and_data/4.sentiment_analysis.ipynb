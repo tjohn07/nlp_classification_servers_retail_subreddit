{
 "cells": [
  {
   "cell_type": "code",
   "execution_count": 1,
   "id": "5b1f07c1-6dd1-46f1-b28f-0c55b3eff6b2",
   "metadata": {},
   "outputs": [],
   "source": [
    "#imports\n",
    "\n",
    "import pandas as pd\n",
    "import joblib\n",
    "import numpy as np\n",
    "import matplotlib.pyplot as plt\n",
    "import seaborn as sns\n",
    "\n",
    "from nltk.sentiment.vader import SentimentIntensityAnalyzer"
   ]
  },
  {
   "cell_type": "markdown",
   "id": "766999e7-446e-48ce-afa7-5d4495cba08c",
   "metadata": {},
   "source": [
    "# Classifying NLP Data for the Service Industry: Comparing 2 Subreddits\n",
    "\n",
    "## Project Contents:\n",
    "\n",
    "This project contains 4 notebooks:\n",
    "\n",
    "|Name|Description|\n",
    "|---|---|\n",
    "|1.intro_and_webscrape|Provides an introduction to the project, including problem statement and background, and the code used for gathering the data.|\n",
    "|2.eda|Displays data cleaning and exploratory data analysis.|\n",
    "|3.modeling|Builds 4 classification models.|\n",
    "|4.sentiment_analysis|Explores sentiment analysis of the language used in each subreddit|\n",
    "\n",
    "You are currently in the notebook #4: Sentiment Analysis, which also contains an [Overall Conclusion](#conclusions). "
   ]
  },
  {
   "cell_type": "code",
   "execution_count": 2,
   "id": "d5230982-cccd-44d9-8ed4-b700e50e88b4",
   "metadata": {},
   "outputs": [],
   "source": [
    "# reading in the csv.\n",
    "\n",
    "df = pd.read_csv('./data/server_retail.csv')"
   ]
  },
  {
   "cell_type": "code",
   "execution_count": 3,
   "id": "48614019-6270-4c5d-9862-7133908284e0",
   "metadata": {},
   "outputs": [
    {
     "data": {
      "text/html": [
       "<div>\n",
       "<style scoped>\n",
       "    .dataframe tbody tr th:only-of-type {\n",
       "        vertical-align: middle;\n",
       "    }\n",
       "\n",
       "    .dataframe tbody tr th {\n",
       "        vertical-align: top;\n",
       "    }\n",
       "\n",
       "    .dataframe thead th {\n",
       "        text-align: right;\n",
       "    }\n",
       "</style>\n",
       "<table border=\"1\" class=\"dataframe\">\n",
       "  <thead>\n",
       "    <tr style=\"text-align: right;\">\n",
       "      <th></th>\n",
       "      <th>body</th>\n",
       "      <th>subreddit</th>\n",
       "      <th>author</th>\n",
       "      <th>created_utc</th>\n",
       "      <th>comment_length</th>\n",
       "      <th>comment_tokens</th>\n",
       "    </tr>\n",
       "  </thead>\n",
       "  <tbody>\n",
       "    <tr>\n",
       "      <th>0</th>\n",
       "      <td>It's warm out today I think I'll put on my coo...</td>\n",
       "      <td>TalesFromRetail</td>\n",
       "      <td>Princessleiasperiod</td>\n",
       "      <td>1635355229</td>\n",
       "      <td>54</td>\n",
       "      <td>warm today think 'll put coolinator</td>\n",
       "    </tr>\n",
       "    <tr>\n",
       "      <th>1</th>\n",
       "      <td>Yeah, sounds like the customer just chose a we...</td>\n",
       "      <td>TalesFromRetail</td>\n",
       "      <td>Adventurous_Ad_6546</td>\n",
       "      <td>1635354447</td>\n",
       "      <td>151</td>\n",
       "      <td>yeah sounds like customer chose weird way say ...</td>\n",
       "    </tr>\n",
       "    <tr>\n",
       "      <th>2</th>\n",
       "      <td>She's insane.</td>\n",
       "      <td>TalesFromRetail</td>\n",
       "      <td>WVPrepper</td>\n",
       "      <td>1635353928</td>\n",
       "      <td>13</td>\n",
       "      <td>insane</td>\n",
       "    </tr>\n",
       "    <tr>\n",
       "      <th>3</th>\n",
       "      <td>That probably would’ve been fine, but that isn...</td>\n",
       "      <td>TalesFromRetail</td>\n",
       "      <td>hazelbutter35</td>\n",
       "      <td>1635353785</td>\n",
       "      <td>306</td>\n",
       "      <td>probably would been fine that what wanted 3 we...</td>\n",
       "    </tr>\n",
       "    <tr>\n",
       "      <th>4</th>\n",
       "      <td>But those coupon came from the fact they bough...</td>\n",
       "      <td>TalesFromRetail</td>\n",
       "      <td>matheod</td>\n",
       "      <td>1635353748</td>\n",
       "      <td>158</td>\n",
       "      <td>those coupon came the fact bought lots money w...</td>\n",
       "    </tr>\n",
       "  </tbody>\n",
       "</table>\n",
       "</div>"
      ],
      "text/plain": [
       "                                                body        subreddit  \\\n",
       "0  It's warm out today I think I'll put on my coo...  TalesFromRetail   \n",
       "1  Yeah, sounds like the customer just chose a we...  TalesFromRetail   \n",
       "2                                      She's insane.  TalesFromRetail   \n",
       "3  That probably would’ve been fine, but that isn...  TalesFromRetail   \n",
       "4  But those coupon came from the fact they bough...  TalesFromRetail   \n",
       "\n",
       "                author  created_utc  comment_length  \\\n",
       "0  Princessleiasperiod   1635355229              54   \n",
       "1  Adventurous_Ad_6546   1635354447             151   \n",
       "2            WVPrepper   1635353928              13   \n",
       "3        hazelbutter35   1635353785             306   \n",
       "4              matheod   1635353748             158   \n",
       "\n",
       "                                      comment_tokens  \n",
       "0                warm today think 'll put coolinator  \n",
       "1  yeah sounds like customer chose weird way say ...  \n",
       "2                                             insane  \n",
       "3  probably would been fine that what wanted 3 we...  \n",
       "4  those coupon came the fact bought lots money w...  "
      ]
     },
     "execution_count": 3,
     "metadata": {},
     "output_type": "execute_result"
    }
   ],
   "source": [
    "df.head()"
   ]
  },
  {
   "cell_type": "code",
   "execution_count": 4,
   "id": "6cba34f5-36af-4830-a918-6ee64ac61ae5",
   "metadata": {},
   "outputs": [],
   "source": [
    "#instantiating sentiment analyzer\n",
    "\n",
    "sia = SentimentIntensityAnalyzer()"
   ]
  },
  {
   "cell_type": "code",
   "execution_count": 5,
   "id": "807e6cc9-a454-41dd-84d6-d035457b8103",
   "metadata": {},
   "outputs": [],
   "source": [
    "#Getting polarity scores for each comment. \n",
    "\n",
    "scores = []\n",
    "\n",
    "for each in df['body']:\n",
    "    current_scores = sia.polarity_scores(each)\n",
    "    scores.append(current_scores)\n",
    "\n"
   ]
  },
  {
   "cell_type": "code",
   "execution_count": 6,
   "id": "9b60e6c8-b3a4-480f-a2a3-d46bda886fc4",
   "metadata": {},
   "outputs": [],
   "source": [
    "#saving scores as a dataframe\n",
    "scores_df = pd.DataFrame(scores)"
   ]
  },
  {
   "cell_type": "code",
   "execution_count": 7,
   "id": "58fad477-8b63-4106-9f90-924c2fb045a5",
   "metadata": {},
   "outputs": [
    {
     "data": {
      "text/html": [
       "<div>\n",
       "<style scoped>\n",
       "    .dataframe tbody tr th:only-of-type {\n",
       "        vertical-align: middle;\n",
       "    }\n",
       "\n",
       "    .dataframe tbody tr th {\n",
       "        vertical-align: top;\n",
       "    }\n",
       "\n",
       "    .dataframe thead th {\n",
       "        text-align: right;\n",
       "    }\n",
       "</style>\n",
       "<table border=\"1\" class=\"dataframe\">\n",
       "  <thead>\n",
       "    <tr style=\"text-align: right;\">\n",
       "      <th></th>\n",
       "      <th>neg</th>\n",
       "      <th>neu</th>\n",
       "      <th>pos</th>\n",
       "      <th>compound</th>\n",
       "    </tr>\n",
       "  </thead>\n",
       "  <tbody>\n",
       "    <tr>\n",
       "      <th>0</th>\n",
       "      <td>0.000</td>\n",
       "      <td>0.826</td>\n",
       "      <td>0.174</td>\n",
       "      <td>0.2263</td>\n",
       "    </tr>\n",
       "    <tr>\n",
       "      <th>1</th>\n",
       "      <td>0.112</td>\n",
       "      <td>0.732</td>\n",
       "      <td>0.156</td>\n",
       "      <td>0.3257</td>\n",
       "    </tr>\n",
       "    <tr>\n",
       "      <th>2</th>\n",
       "      <td>0.730</td>\n",
       "      <td>0.270</td>\n",
       "      <td>0.000</td>\n",
       "      <td>-0.4019</td>\n",
       "    </tr>\n",
       "    <tr>\n",
       "      <th>3</th>\n",
       "      <td>0.000</td>\n",
       "      <td>0.975</td>\n",
       "      <td>0.025</td>\n",
       "      <td>0.1027</td>\n",
       "    </tr>\n",
       "    <tr>\n",
       "      <th>4</th>\n",
       "      <td>0.209</td>\n",
       "      <td>0.791</td>\n",
       "      <td>0.000</td>\n",
       "      <td>-0.8125</td>\n",
       "    </tr>\n",
       "  </tbody>\n",
       "</table>\n",
       "</div>"
      ],
      "text/plain": [
       "     neg    neu    pos  compound\n",
       "0  0.000  0.826  0.174    0.2263\n",
       "1  0.112  0.732  0.156    0.3257\n",
       "2  0.730  0.270  0.000   -0.4019\n",
       "3  0.000  0.975  0.025    0.1027\n",
       "4  0.209  0.791  0.000   -0.8125"
      ]
     },
     "execution_count": 7,
     "metadata": {},
     "output_type": "execute_result"
    }
   ],
   "source": [
    "scores_df.head()"
   ]
  },
  {
   "cell_type": "code",
   "execution_count": 8,
   "id": "73a2fb3b-85b4-451f-8884-c84321efff68",
   "metadata": {},
   "outputs": [
    {
     "data": {
      "text/html": [
       "<div>\n",
       "<style scoped>\n",
       "    .dataframe tbody tr th:only-of-type {\n",
       "        vertical-align: middle;\n",
       "    }\n",
       "\n",
       "    .dataframe tbody tr th {\n",
       "        vertical-align: top;\n",
       "    }\n",
       "\n",
       "    .dataframe thead th {\n",
       "        text-align: right;\n",
       "    }\n",
       "</style>\n",
       "<table border=\"1\" class=\"dataframe\">\n",
       "  <thead>\n",
       "    <tr style=\"text-align: right;\">\n",
       "      <th></th>\n",
       "      <th>body</th>\n",
       "      <th>subreddit</th>\n",
       "      <th>author</th>\n",
       "      <th>created_utc</th>\n",
       "      <th>comment_length</th>\n",
       "      <th>comment_tokens</th>\n",
       "      <th>neg</th>\n",
       "      <th>neu</th>\n",
       "      <th>pos</th>\n",
       "      <th>compound</th>\n",
       "    </tr>\n",
       "  </thead>\n",
       "  <tbody>\n",
       "    <tr>\n",
       "      <th>0</th>\n",
       "      <td>It's warm out today I think I'll put on my coo...</td>\n",
       "      <td>TalesFromRetail</td>\n",
       "      <td>Princessleiasperiod</td>\n",
       "      <td>1635355229</td>\n",
       "      <td>54</td>\n",
       "      <td>warm today think 'll put coolinator</td>\n",
       "      <td>0.000</td>\n",
       "      <td>0.826</td>\n",
       "      <td>0.174</td>\n",
       "      <td>0.2263</td>\n",
       "    </tr>\n",
       "    <tr>\n",
       "      <th>1</th>\n",
       "      <td>Yeah, sounds like the customer just chose a we...</td>\n",
       "      <td>TalesFromRetail</td>\n",
       "      <td>Adventurous_Ad_6546</td>\n",
       "      <td>1635354447</td>\n",
       "      <td>151</td>\n",
       "      <td>yeah sounds like customer chose weird way say ...</td>\n",
       "      <td>0.112</td>\n",
       "      <td>0.732</td>\n",
       "      <td>0.156</td>\n",
       "      <td>0.3257</td>\n",
       "    </tr>\n",
       "    <tr>\n",
       "      <th>2</th>\n",
       "      <td>She's insane.</td>\n",
       "      <td>TalesFromRetail</td>\n",
       "      <td>WVPrepper</td>\n",
       "      <td>1635353928</td>\n",
       "      <td>13</td>\n",
       "      <td>insane</td>\n",
       "      <td>0.730</td>\n",
       "      <td>0.270</td>\n",
       "      <td>0.000</td>\n",
       "      <td>-0.4019</td>\n",
       "    </tr>\n",
       "    <tr>\n",
       "      <th>3</th>\n",
       "      <td>That probably would’ve been fine, but that isn...</td>\n",
       "      <td>TalesFromRetail</td>\n",
       "      <td>hazelbutter35</td>\n",
       "      <td>1635353785</td>\n",
       "      <td>306</td>\n",
       "      <td>probably would been fine that what wanted 3 we...</td>\n",
       "      <td>0.000</td>\n",
       "      <td>0.975</td>\n",
       "      <td>0.025</td>\n",
       "      <td>0.1027</td>\n",
       "    </tr>\n",
       "    <tr>\n",
       "      <th>4</th>\n",
       "      <td>But those coupon came from the fact they bough...</td>\n",
       "      <td>TalesFromRetail</td>\n",
       "      <td>matheod</td>\n",
       "      <td>1635353748</td>\n",
       "      <td>158</td>\n",
       "      <td>those coupon came the fact bought lots money w...</td>\n",
       "      <td>0.209</td>\n",
       "      <td>0.791</td>\n",
       "      <td>0.000</td>\n",
       "      <td>-0.8125</td>\n",
       "    </tr>\n",
       "  </tbody>\n",
       "</table>\n",
       "</div>"
      ],
      "text/plain": [
       "                                                body        subreddit  \\\n",
       "0  It's warm out today I think I'll put on my coo...  TalesFromRetail   \n",
       "1  Yeah, sounds like the customer just chose a we...  TalesFromRetail   \n",
       "2                                      She's insane.  TalesFromRetail   \n",
       "3  That probably would’ve been fine, but that isn...  TalesFromRetail   \n",
       "4  But those coupon came from the fact they bough...  TalesFromRetail   \n",
       "\n",
       "                author  created_utc  comment_length  \\\n",
       "0  Princessleiasperiod   1635355229              54   \n",
       "1  Adventurous_Ad_6546   1635354447             151   \n",
       "2            WVPrepper   1635353928              13   \n",
       "3        hazelbutter35   1635353785             306   \n",
       "4              matheod   1635353748             158   \n",
       "\n",
       "                                      comment_tokens    neg    neu    pos  \\\n",
       "0                warm today think 'll put coolinator  0.000  0.826  0.174   \n",
       "1  yeah sounds like customer chose weird way say ...  0.112  0.732  0.156   \n",
       "2                                             insane  0.730  0.270  0.000   \n",
       "3  probably would been fine that what wanted 3 we...  0.000  0.975  0.025   \n",
       "4  those coupon came the fact bought lots money w...  0.209  0.791  0.000   \n",
       "\n",
       "   compound  \n",
       "0    0.2263  \n",
       "1    0.3257  \n",
       "2   -0.4019  \n",
       "3    0.1027  \n",
       "4   -0.8125  "
      ]
     },
     "execution_count": 8,
     "metadata": {},
     "output_type": "execute_result"
    }
   ],
   "source": [
    "# creating a dataframe with polarity scores appended as columns. \n",
    "\n",
    "polarity_df = pd.concat([df, scores_df], axis = 1)\n",
    "polarity_df.head()"
   ]
  },
  {
   "cell_type": "code",
   "execution_count": 9,
   "id": "3216e32a-a0e9-40b5-ad76-65648728fa6a",
   "metadata": {},
   "outputs": [
    {
     "data": {
      "text/html": [
       "<div>\n",
       "<style scoped>\n",
       "    .dataframe tbody tr th:only-of-type {\n",
       "        vertical-align: middle;\n",
       "    }\n",
       "\n",
       "    .dataframe tbody tr th {\n",
       "        vertical-align: top;\n",
       "    }\n",
       "\n",
       "    .dataframe thead th {\n",
       "        text-align: right;\n",
       "    }\n",
       "</style>\n",
       "<table border=\"1\" class=\"dataframe\">\n",
       "  <thead>\n",
       "    <tr style=\"text-align: right;\">\n",
       "      <th></th>\n",
       "      <th>count</th>\n",
       "      <th>mean</th>\n",
       "      <th>std</th>\n",
       "      <th>min</th>\n",
       "      <th>25%</th>\n",
       "      <th>50%</th>\n",
       "      <th>75%</th>\n",
       "      <th>max</th>\n",
       "    </tr>\n",
       "    <tr>\n",
       "      <th>subreddit</th>\n",
       "      <th></th>\n",
       "      <th></th>\n",
       "      <th></th>\n",
       "      <th></th>\n",
       "      <th></th>\n",
       "      <th></th>\n",
       "      <th></th>\n",
       "      <th></th>\n",
       "    </tr>\n",
       "  </thead>\n",
       "  <tbody>\n",
       "    <tr>\n",
       "      <th>False</th>\n",
       "      <td>38446.0</td>\n",
       "      <td>0.077217</td>\n",
       "      <td>0.530126</td>\n",
       "      <td>-0.9994</td>\n",
       "      <td>-0.3182</td>\n",
       "      <td>0.0</td>\n",
       "      <td>0.5106</td>\n",
       "      <td>0.9985</td>\n",
       "    </tr>\n",
       "    <tr>\n",
       "      <th>True</th>\n",
       "      <td>33459.0</td>\n",
       "      <td>0.055874</td>\n",
       "      <td>0.496004</td>\n",
       "      <td>-0.9967</td>\n",
       "      <td>-0.3053</td>\n",
       "      <td>0.0</td>\n",
       "      <td>0.4404</td>\n",
       "      <td>0.9954</td>\n",
       "    </tr>\n",
       "  </tbody>\n",
       "</table>\n",
       "</div>"
      ],
      "text/plain": [
       "             count      mean       std     min     25%  50%     75%     max\n",
       "subreddit                                                                  \n",
       "False      38446.0  0.077217  0.530126 -0.9994 -0.3182  0.0  0.5106  0.9985\n",
       "True       33459.0  0.055874  0.496004 -0.9967 -0.3053  0.0  0.4404  0.9954"
      ]
     },
     "execution_count": 9,
     "metadata": {},
     "output_type": "execute_result"
    }
   ],
   "source": [
    "#Sentiment fairly consistent between retail and sales\n",
    "\n",
    "polarity_df['compound'].groupby(polarity_df['subreddit']=='TalesFromRetail').describe()"
   ]
  },
  {
   "cell_type": "code",
   "execution_count": 10,
   "id": "08b21dea-f34d-4658-9568-68e5a2270bdf",
   "metadata": {},
   "outputs": [],
   "source": [
    "retail_sent = polarity_df[polarity_df['subreddit'] == 'TalesFromRetail']"
   ]
  },
  {
   "cell_type": "code",
   "execution_count": 11,
   "id": "25613400-5269-44aa-84a7-17d494cc8dbf",
   "metadata": {},
   "outputs": [],
   "source": [
    "server_sent = polarity_df[polarity_df['subreddit'] == 'TalesFromYourServer']"
   ]
  },
  {
   "cell_type": "markdown",
   "id": "83029463-8fb4-496d-bc8c-ddbea5b71379",
   "metadata": {},
   "source": [
    "## Sentiment Analysis Conclusions\n",
    "\n",
    "Surprisingly, the majority of comments were neutral.  Both subreddits had extreme outliers of a perfect positive or negative score, but most comments fell between a -.25 score or a positive .5 score. "
   ]
  },
  {
   "cell_type": "code",
   "execution_count": 12,
   "id": "716fca7c-5aff-4d4b-aae3-6fe349aa67d4",
   "metadata": {},
   "outputs": [
    {
     "data": {
      "image/png": "[encoded data removed]",
      "text/plain": [
       "<Figure size 864x360 with 1 Axes>"
      ]
     },
     "metadata": {
      "needs_background": "light"
     },
     "output_type": "display_data"
    }
   ],
   "source": [
    "#I consulted this site for this code: https://medium.com/@arseniytyurin/how-to-make-your-histogram-shine-69e432be39ca\n",
    "\n",
    "plt.figure(figsize=(12, 5))\n",
    "n, bins, patches = plt.hist(retail_sent['compound'], orientation='horizontal', bins=20, facecolor='#2ab0ff', edgecolor='#e0e0e0', linewidth=0.5, alpha=0.7)\n",
    "\n",
    "n = n.astype('int') # it MUST be integer\n",
    "# Good old loop. Choose colormap of your taste\n",
    "for i in range(len(patches)):\n",
    "    patches[i].set_facecolor(plt.cm.viridis(n[i]/max(n)))\n",
    "plt.title('Sentiment Analysis: Retail', fontsize=18)\n",
    "plt.xlabel('Comment Count', fontsize=16)\n",
    "plt.ylabel('Sentiment Rating', fontsize=16)\n",
    "plt.show()"
   ]
  },
  {
   "cell_type": "code",
   "execution_count": 13,
   "id": "f7378c34-1814-4fb3-8abc-3cf37029525d",
   "metadata": {},
   "outputs": [
    {
     "data": {
      "image/png": "[encoded data removed]",
      "text/plain": [
       "<Figure size 864x432 with 1 Axes>"
      ]
     },
     "metadata": {
      "needs_background": "light"
     },
     "output_type": "display_data"
    }
   ],
   "source": [
    "#I consulted this site for this code: https://medium.com/@arseniytyurin/how-to-make-your-histogram-shine-69e432be39ca\n",
    "\n",
    "plt.figure(figsize=(12, 6))\n",
    "n, bins, patches = plt.hist(server_sent['compound'], orientation='horizontal', bins=20, facecolor='#2ab0ff', edgecolor='#e0e0e0', linewidth=0.5, alpha=0.7)\n",
    "\n",
    "n = n.astype('int') # it MUST be integer\n",
    "# Good old loop. Choose colormap of your taste\n",
    "for i in range(len(patches)):\n",
    "    patches[i].set_facecolor(plt.cm.viridis(n[i]/max(n)))\n",
    "plt.title('Sentiment Analysis: Servers', fontsize=18)\n",
    "plt.xlabel('Comment Count', fontsize=16)\n",
    "plt.ylabel('Sentiment Rating', fontsize=16)\n",
    "plt.show()"
   ]
  },
  {
   "cell_type": "code",
   "execution_count": 14,
   "id": "953b3002-f6ce-42c5-8f73-48b7a24a90a0",
   "metadata": {},
   "outputs": [
    {
     "data": {
      "text/plain": [
       "Text(0.5, 0, 'Subreddit')"
      ]
     },
     "execution_count": 14,
     "metadata": {},
     "output_type": "execute_result"
    },
    {
     "data": {
      "image/png": "[encoded data removed]",
      "text/plain": [
       "<Figure size 648x576 with 1 Axes>"
      ]
     },
     "metadata": {
      "needs_background": "light"
     },
     "output_type": "display_data"
    }
   ],
   "source": [
    "plt.figure(figsize=(9, 8))\n",
    "sns.boxplot(x=\"subreddit\", y=\"compound\",\n",
    "                 data=polarity_df, linewidth=2.5, palette='CMRmap')\n",
    "plt.title('Sentiment Analysis', fontsize=16)\n",
    "plt.ylabel('Compound Score',fontsize=14)\n",
    "plt.xlabel('Subreddit', fontsize=14)"
   ]
  },
  {
   "cell_type": "markdown",
   "id": "d5635833-25be-4800-b71b-bea835510651",
   "metadata": {},
   "source": [
    "## <a name=\"conclusions\"></a>Overall Conclusions\n",
    "* The model is able to differentiate between the TalesFromYourServer and the TalesFromRetail subreddits with about 80% accuracy.\n",
    "* Generally, the sentiment from both groups is fairly neutral.\n",
    "* Based on top word usage, it would appear that things like tips, food, and tables are important to servers, while things like customers are important to both servers and retail workers.\n",
    "\n",
    "\n",
    "Since the bulk of the comments were neutral in nature, I didn’t get a good feel for what workers are looking for that their employers may be able to provide.  Given more time, I would focus on breaking down comments to look at the 25% most negative and most positive.  This way we could get a better idea of negative and positive things that workers are discussing, while avoiding the noise of the bulk of the neutral comments"
   ]
  },
  {
   "cell_type": "code",
   "execution_count": null,
   "id": "22b2de68-4890-4d3a-a189-cea8fd8b8761",
   "metadata": {},
   "outputs": [],
   "source": []
  }
 ],
 "metadata": {
  "kernelspec": {
   "display_name": "Python 3",
   "language": "python",
   "name": "python3"
  },
  "language_info": {
   "codemirror_mode": {
    "name": "ipython",
    "version": 3
   },
   "file_extension": ".py",
   "mimetype": "text/x-python",
   "name": "python",
   "nbconvert_exporter": "python",
   "pygments_lexer": "ipython3",
   "version": "3.8.8"
  }
 },
 "nbformat": 4,
 "nbformat_minor": 5
}
